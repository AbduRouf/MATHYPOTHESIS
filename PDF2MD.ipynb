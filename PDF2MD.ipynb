{
  "nbformat": 4,
  "nbformat_minor": 0,
  "metadata": {
    "colab": {
      "provenance": [],
      "gpuType": "T4",
      "mount_file_id": "1jWYqwurzriiZPfrmmNbcAvNuyJxP7eHq",
      "authorship_tag": "ABX9TyMip1srbLtPMUrZQdeA+OUQ",
      "include_colab_link": true
    },
    "kernelspec": {
      "name": "python3",
      "display_name": "Python 3"
    },
    "language_info": {
      "name": "python"
    },
    "accelerator": "GPU",
    "widgets": {
      "application/vnd.jupyter.widget-state+json": {
        "f1bc0a128b1948138e6014147125a002": {
          "model_module": "@jupyter-widgets/controls",
          "model_name": "HBoxModel",
          "model_module_version": "1.5.0",
          "state": {
            "_dom_classes": [],
            "_model_module": "@jupyter-widgets/controls",
            "_model_module_version": "1.5.0",
            "_model_name": "HBoxModel",
            "_view_count": null,
            "_view_module": "@jupyter-widgets/controls",
            "_view_module_version": "1.5.0",
            "_view_name": "HBoxView",
            "box_style": "",
            "children": [
              "IPY_MODEL_86685287a97749f98d110952e500051a",
              "IPY_MODEL_1e2968cd37b34f209062fe7e15d5a1fa",
              "IPY_MODEL_434d1a8e403840cabaae419fff1526c3"
            ],
            "layout": "IPY_MODEL_72f72c0ff78f45ab934c5ede4ba8dd0e"
          }
        },
        "86685287a97749f98d110952e500051a": {
          "model_module": "@jupyter-widgets/controls",
          "model_name": "HTMLModel",
          "model_module_version": "1.5.0",
          "state": {
            "_dom_classes": [],
            "_model_module": "@jupyter-widgets/controls",
            "_model_module_version": "1.5.0",
            "_model_name": "HTMLModel",
            "_view_count": null,
            "_view_module": "@jupyter-widgets/controls",
            "_view_module_version": "1.5.0",
            "_view_name": "HTMLView",
            "description": "",
            "description_tooltip": null,
            "layout": "IPY_MODEL_cd37414ff8e3414da552e813ff44c727",
            "placeholder": "​",
            "style": "IPY_MODEL_10ff7f65cd9f4388b6218da22e32df24",
            "value": "densenet_lite_136-gru-onnx.zip: 100%"
          }
        },
        "1e2968cd37b34f209062fe7e15d5a1fa": {
          "model_module": "@jupyter-widgets/controls",
          "model_name": "FloatProgressModel",
          "model_module_version": "1.5.0",
          "state": {
            "_dom_classes": [],
            "_model_module": "@jupyter-widgets/controls",
            "_model_module_version": "1.5.0",
            "_model_name": "FloatProgressModel",
            "_view_count": null,
            "_view_module": "@jupyter-widgets/controls",
            "_view_module_version": "1.5.0",
            "_view_name": "ProgressView",
            "bar_style": "success",
            "description": "",
            "description_tooltip": null,
            "layout": "IPY_MODEL_8d5a2eb190134e04ac4238aeabae3302",
            "max": 11573070,
            "min": 0,
            "orientation": "horizontal",
            "style": "IPY_MODEL_969389d376dd4011b9aabde4b672dccc",
            "value": 11573070
          }
        },
        "434d1a8e403840cabaae419fff1526c3": {
          "model_module": "@jupyter-widgets/controls",
          "model_name": "HTMLModel",
          "model_module_version": "1.5.0",
          "state": {
            "_dom_classes": [],
            "_model_module": "@jupyter-widgets/controls",
            "_model_module_version": "1.5.0",
            "_model_name": "HTMLModel",
            "_view_count": null,
            "_view_module": "@jupyter-widgets/controls",
            "_view_module_version": "1.5.0",
            "_view_name": "HTMLView",
            "description": "",
            "description_tooltip": null,
            "layout": "IPY_MODEL_2ae4e774b6424c868be87f5b24a1c4db",
            "placeholder": "​",
            "style": "IPY_MODEL_1a3e321e5f744225a33b50e1b9d85a75",
            "value": " 11.6M/11.6M [00:00&lt;00:00, 48.2MB/s]"
          }
        },
        "72f72c0ff78f45ab934c5ede4ba8dd0e": {
          "model_module": "@jupyter-widgets/base",
          "model_name": "LayoutModel",
          "model_module_version": "1.2.0",
          "state": {
            "_model_module": "@jupyter-widgets/base",
            "_model_module_version": "1.2.0",
            "_model_name": "LayoutModel",
            "_view_count": null,
            "_view_module": "@jupyter-widgets/base",
            "_view_module_version": "1.2.0",
            "_view_name": "LayoutView",
            "align_content": null,
            "align_items": null,
            "align_self": null,
            "border": null,
            "bottom": null,
            "display": null,
            "flex": null,
            "flex_flow": null,
            "grid_area": null,
            "grid_auto_columns": null,
            "grid_auto_flow": null,
            "grid_auto_rows": null,
            "grid_column": null,
            "grid_gap": null,
            "grid_row": null,
            "grid_template_areas": null,
            "grid_template_columns": null,
            "grid_template_rows": null,
            "height": null,
            "justify_content": null,
            "justify_items": null,
            "left": null,
            "margin": null,
            "max_height": null,
            "max_width": null,
            "min_height": null,
            "min_width": null,
            "object_fit": null,
            "object_position": null,
            "order": null,
            "overflow": null,
            "overflow_x": null,
            "overflow_y": null,
            "padding": null,
            "right": null,
            "top": null,
            "visibility": null,
            "width": null
          }
        },
        "cd37414ff8e3414da552e813ff44c727": {
          "model_module": "@jupyter-widgets/base",
          "model_name": "LayoutModel",
          "model_module_version": "1.2.0",
          "state": {
            "_model_module": "@jupyter-widgets/base",
            "_model_module_version": "1.2.0",
            "_model_name": "LayoutModel",
            "_view_count": null,
            "_view_module": "@jupyter-widgets/base",
            "_view_module_version": "1.2.0",
            "_view_name": "LayoutView",
            "align_content": null,
            "align_items": null,
            "align_self": null,
            "border": null,
            "bottom": null,
            "display": null,
            "flex": null,
            "flex_flow": null,
            "grid_area": null,
            "grid_auto_columns": null,
            "grid_auto_flow": null,
            "grid_auto_rows": null,
            "grid_column": null,
            "grid_gap": null,
            "grid_row": null,
            "grid_template_areas": null,
            "grid_template_columns": null,
            "grid_template_rows": null,
            "height": null,
            "justify_content": null,
            "justify_items": null,
            "left": null,
            "margin": null,
            "max_height": null,
            "max_width": null,
            "min_height": null,
            "min_width": null,
            "object_fit": null,
            "object_position": null,
            "order": null,
            "overflow": null,
            "overflow_x": null,
            "overflow_y": null,
            "padding": null,
            "right": null,
            "top": null,
            "visibility": null,
            "width": null
          }
        },
        "10ff7f65cd9f4388b6218da22e32df24": {
          "model_module": "@jupyter-widgets/controls",
          "model_name": "DescriptionStyleModel",
          "model_module_version": "1.5.0",
          "state": {
            "_model_module": "@jupyter-widgets/controls",
            "_model_module_version": "1.5.0",
            "_model_name": "DescriptionStyleModel",
            "_view_count": null,
            "_view_module": "@jupyter-widgets/base",
            "_view_module_version": "1.2.0",
            "_view_name": "StyleView",
            "description_width": ""
          }
        },
        "8d5a2eb190134e04ac4238aeabae3302": {
          "model_module": "@jupyter-widgets/base",
          "model_name": "LayoutModel",
          "model_module_version": "1.2.0",
          "state": {
            "_model_module": "@jupyter-widgets/base",
            "_model_module_version": "1.2.0",
            "_model_name": "LayoutModel",
            "_view_count": null,
            "_view_module": "@jupyter-widgets/base",
            "_view_module_version": "1.2.0",
            "_view_name": "LayoutView",
            "align_content": null,
            "align_items": null,
            "align_self": null,
            "border": null,
            "bottom": null,
            "display": null,
            "flex": null,
            "flex_flow": null,
            "grid_area": null,
            "grid_auto_columns": null,
            "grid_auto_flow": null,
            "grid_auto_rows": null,
            "grid_column": null,
            "grid_gap": null,
            "grid_row": null,
            "grid_template_areas": null,
            "grid_template_columns": null,
            "grid_template_rows": null,
            "height": null,
            "justify_content": null,
            "justify_items": null,
            "left": null,
            "margin": null,
            "max_height": null,
            "max_width": null,
            "min_height": null,
            "min_width": null,
            "object_fit": null,
            "object_position": null,
            "order": null,
            "overflow": null,
            "overflow_x": null,
            "overflow_y": null,
            "padding": null,
            "right": null,
            "top": null,
            "visibility": null,
            "width": null
          }
        },
        "969389d376dd4011b9aabde4b672dccc": {
          "model_module": "@jupyter-widgets/controls",
          "model_name": "ProgressStyleModel",
          "model_module_version": "1.5.0",
          "state": {
            "_model_module": "@jupyter-widgets/controls",
            "_model_module_version": "1.5.0",
            "_model_name": "ProgressStyleModel",
            "_view_count": null,
            "_view_module": "@jupyter-widgets/base",
            "_view_module_version": "1.2.0",
            "_view_name": "StyleView",
            "bar_color": null,
            "description_width": ""
          }
        },
        "2ae4e774b6424c868be87f5b24a1c4db": {
          "model_module": "@jupyter-widgets/base",
          "model_name": "LayoutModel",
          "model_module_version": "1.2.0",
          "state": {
            "_model_module": "@jupyter-widgets/base",
            "_model_module_version": "1.2.0",
            "_model_name": "LayoutModel",
            "_view_count": null,
            "_view_module": "@jupyter-widgets/base",
            "_view_module_version": "1.2.0",
            "_view_name": "LayoutView",
            "align_content": null,
            "align_items": null,
            "align_self": null,
            "border": null,
            "bottom": null,
            "display": null,
            "flex": null,
            "flex_flow": null,
            "grid_area": null,
            "grid_auto_columns": null,
            "grid_auto_flow": null,
            "grid_auto_rows": null,
            "grid_column": null,
            "grid_gap": null,
            "grid_row": null,
            "grid_template_areas": null,
            "grid_template_columns": null,
            "grid_template_rows": null,
            "height": null,
            "justify_content": null,
            "justify_items": null,
            "left": null,
            "margin": null,
            "max_height": null,
            "max_width": null,
            "min_height": null,
            "min_width": null,
            "object_fit": null,
            "object_position": null,
            "order": null,
            "overflow": null,
            "overflow_x": null,
            "overflow_y": null,
            "padding": null,
            "right": null,
            "top": null,
            "visibility": null,
            "width": null
          }
        },
        "1a3e321e5f744225a33b50e1b9d85a75": {
          "model_module": "@jupyter-widgets/controls",
          "model_name": "DescriptionStyleModel",
          "model_module_version": "1.5.0",
          "state": {
            "_model_module": "@jupyter-widgets/controls",
            "_model_module_version": "1.5.0",
            "_model_name": "DescriptionStyleModel",
            "_view_count": null,
            "_view_module": "@jupyter-widgets/base",
            "_view_module_version": "1.2.0",
            "_view_name": "StyleView",
            "description_width": ""
          }
        }
      }
    }
  },
  "cells": [
    {
      "cell_type": "markdown",
      "metadata": {
        "id": "view-in-github",
        "colab_type": "text"
      },
      "source": [
        "<a href=\"https://colab.research.google.com/github/AbduRouf/MATHYPOTHESIS/blob/main/PDF2MD.ipynb\" target=\"_parent\"><img src=\"https://colab.research.google.com/assets/colab-badge.svg\" alt=\"Open In Colab\"/></a>"
      ]
    },
    {
      "source": [
        "!pip uninstall onnxruntime onnxruntime-gpu -y\n",
        "!pip install onnxruntime-gpu\n",
        "\n",
        "import onnxruntime as ort\n",
        "\n",
        "# Check the ONNX Runtime version\n",
        "print(\"ONNX Runtime version:\", ort.__version__)\n",
        "\n",
        "# Check available providers\n",
        "print(\"Available Providers:\", ort.get_available_providers())"
      ],
      "cell_type": "code",
      "metadata": {
        "colab": {
          "base_uri": "https://localhost:8080/"
        },
        "id": "1Sg_g-AD9PU8",
        "outputId": "e17e5b82-32d2-44a6-b9dd-6d7993dfa63c"
      },
      "execution_count": null,
      "outputs": [
        {
          "output_type": "stream",
          "name": "stdout",
          "text": [
            "\u001b[33mWARNING: Skipping onnxruntime as it is not installed.\u001b[0m\u001b[33m\n",
            "\u001b[0mFound existing installation: onnxruntime-gpu 1.20.1\n",
            "Uninstalling onnxruntime-gpu-1.20.1:\n",
            "  Successfully uninstalled onnxruntime-gpu-1.20.1\n",
            "Collecting onnxruntime-gpu\n",
            "  Using cached onnxruntime_gpu-1.20.1-cp310-cp310-manylinux_2_27_x86_64.manylinux_2_28_x86_64.whl.metadata (4.5 kB)\n",
            "Requirement already satisfied: coloredlogs in /usr/local/lib/python3.10/dist-packages (from onnxruntime-gpu) (15.0.1)\n",
            "Requirement already satisfied: flatbuffers in /usr/local/lib/python3.10/dist-packages (from onnxruntime-gpu) (24.3.25)\n",
            "Requirement already satisfied: numpy>=1.21.6 in /usr/local/lib/python3.10/dist-packages (from onnxruntime-gpu) (1.26.4)\n",
            "Requirement already satisfied: packaging in /usr/local/lib/python3.10/dist-packages (from onnxruntime-gpu) (24.2)\n",
            "Requirement already satisfied: protobuf in /usr/local/lib/python3.10/dist-packages (from onnxruntime-gpu) (4.25.5)\n",
            "Requirement already satisfied: sympy in /usr/local/lib/python3.10/dist-packages (from onnxruntime-gpu) (1.13.1)\n",
            "Requirement already satisfied: humanfriendly>=9.1 in /usr/local/lib/python3.10/dist-packages (from coloredlogs->onnxruntime-gpu) (10.0)\n",
            "Requirement already satisfied: mpmath<1.4,>=1.1.0 in /usr/local/lib/python3.10/dist-packages (from sympy->onnxruntime-gpu) (1.3.0)\n",
            "Using cached onnxruntime_gpu-1.20.1-cp310-cp310-manylinux_2_27_x86_64.manylinux_2_28_x86_64.whl (291.5 MB)\n",
            "Installing collected packages: onnxruntime-gpu\n",
            "Successfully installed onnxruntime-gpu-1.20.1\n",
            "ONNX Runtime version: 1.20.1\n",
            "Available Providers: ['TensorrtExecutionProvider', 'CUDAExecutionProvider', 'CPUExecutionProvider']\n"
          ]
        }
      ]
    },
    {
      "source": [
        "!pip install pix2text\n",
        "\n",
        "from pix2text import Pix2Text # Import Pix2Text from the pix2text module\n",
        "\n",
        "p2t = Pix2Text.from_config()"
      ],
      "cell_type": "code",
      "metadata": {
        "colab": {
          "base_uri": "https://localhost:8080/",
          "height": 1000,
          "referenced_widgets": [
            "f1bc0a128b1948138e6014147125a002",
            "86685287a97749f98d110952e500051a",
            "1e2968cd37b34f209062fe7e15d5a1fa",
            "434d1a8e403840cabaae419fff1526c3",
            "72f72c0ff78f45ab934c5ede4ba8dd0e",
            "cd37414ff8e3414da552e813ff44c727",
            "10ff7f65cd9f4388b6218da22e32df24",
            "8d5a2eb190134e04ac4238aeabae3302",
            "969389d376dd4011b9aabde4b672dccc",
            "2ae4e774b6424c868be87f5b24a1c4db",
            "1a3e321e5f744225a33b50e1b9d85a75"
          ]
        },
        "id": "Lk6K20G69n4T",
        "outputId": "56fe614a-1e51-4b84-cbe2-993ffc4b1604"
      },
      "execution_count": null,
      "outputs": [
        {
          "output_type": "stream",
          "name": "stdout",
          "text": [
            "Requirement already satisfied: pix2text in /usr/local/lib/python3.10/dist-packages (1.1.2.2)\n",
            "Requirement already satisfied: click in /usr/local/lib/python3.10/dist-packages (from pix2text) (8.1.7)\n",
            "Requirement already satisfied: tqdm in /usr/local/lib/python3.10/dist-packages (from pix2text) (4.66.6)\n",
            "Requirement already satisfied: numpy in /usr/local/lib/python3.10/dist-packages (from pix2text) (1.26.4)\n",
            "Requirement already satisfied: opencv-python in /usr/local/lib/python3.10/dist-packages (from pix2text) (4.10.0.84)\n",
            "Requirement already satisfied: cnocr>=2.3.0.2 in /usr/local/lib/python3.10/dist-packages (from cnocr[ort-cpu]>=2.3.0.2->pix2text) (2.3.1)\n",
            "Requirement already satisfied: cnstd>=1.2.4.2 in /usr/local/lib/python3.10/dist-packages (from pix2text) (1.2.5.2)\n",
            "Requirement already satisfied: pillow in /usr/local/lib/python3.10/dist-packages (from pix2text) (11.0.0)\n",
            "Requirement already satisfied: torch in /usr/local/lib/python3.10/dist-packages (from pix2text) (2.5.1+cu121)\n",
            "Requirement already satisfied: torchvision in /usr/local/lib/python3.10/dist-packages (from pix2text) (0.20.1+cu121)\n",
            "Requirement already satisfied: transformers>=4.37.0 in /usr/local/lib/python3.10/dist-packages (from pix2text) (4.46.3)\n",
            "Requirement already satisfied: optimum[onnxruntime] in /usr/local/lib/python3.10/dist-packages (from pix2text) (1.23.3)\n",
            "Requirement already satisfied: PyMuPDF in /usr/local/lib/python3.10/dist-packages (from pix2text) (1.25.1)\n",
            "Requirement already satisfied: pyspellchecker in /usr/local/lib/python3.10/dist-packages (from pix2text) (0.8.1)\n",
            "Requirement already satisfied: doclayout-yolo<0.1 in /usr/local/lib/python3.10/dist-packages (from pix2text) (0.0.2)\n",
            "Requirement already satisfied: pytorch-lightning>=2.0.0 in /usr/local/lib/python3.10/dist-packages (from cnocr>=2.3.0.2->cnocr[ort-cpu]>=2.3.0.2->pix2text) (2.4.0)\n",
            "Requirement already satisfied: wandb in /usr/local/lib/python3.10/dist-packages (from cnocr>=2.3.0.2->cnocr[ort-cpu]>=2.3.0.2->pix2text) (0.18.7)\n",
            "Requirement already satisfied: torchmetrics in /usr/local/lib/python3.10/dist-packages (from cnocr>=2.3.0.2->cnocr[ort-cpu]>=2.3.0.2->pix2text) (1.6.0)\n",
            "Requirement already satisfied: onnx in /usr/local/lib/python3.10/dist-packages (from cnocr>=2.3.0.2->cnocr[ort-cpu]>=2.3.0.2->pix2text) (1.17.0)\n",
            "Requirement already satisfied: rapidocr-onnxruntime<1.4 in /usr/local/lib/python3.10/dist-packages (from cnocr>=2.3.0.2->cnocr[ort-cpu]>=2.3.0.2->pix2text) (1.3.25)\n",
            "Requirement already satisfied: onnxruntime in /usr/local/lib/python3.10/dist-packages (from cnocr[ort-cpu]>=2.3.0.2->pix2text) (1.20.1)\n",
            "Requirement already satisfied: pyyaml in /usr/local/lib/python3.10/dist-packages (from cnstd>=1.2.4.2->pix2text) (6.0.2)\n",
            "Requirement already satisfied: unidecode in /usr/local/lib/python3.10/dist-packages (from cnstd>=1.2.4.2->pix2text) (1.3.8)\n",
            "Requirement already satisfied: scipy in /usr/local/lib/python3.10/dist-packages (from cnstd>=1.2.4.2->pix2text) (1.13.1)\n",
            "Requirement already satisfied: pandas in /usr/local/lib/python3.10/dist-packages (from cnstd>=1.2.4.2->pix2text) (2.2.2)\n",
            "Requirement already satisfied: shapely in /usr/local/lib/python3.10/dist-packages (from cnstd>=1.2.4.2->pix2text) (2.0.6)\n",
            "Requirement already satisfied: pyclipper in /usr/local/lib/python3.10/dist-packages (from cnstd>=1.2.4.2->pix2text) (1.3.0.post6)\n",
            "Requirement already satisfied: matplotlib in /usr/local/lib/python3.10/dist-packages (from cnstd>=1.2.4.2->pix2text) (3.8.0)\n",
            "Requirement already satisfied: seaborn in /usr/local/lib/python3.10/dist-packages (from cnstd>=1.2.4.2->pix2text) (0.13.2)\n",
            "Requirement already satisfied: huggingface-hub in /usr/local/lib/python3.10/dist-packages (from cnstd>=1.2.4.2->pix2text) (0.26.5)\n",
            "Requirement already satisfied: ultralytics in /usr/local/lib/python3.10/dist-packages (from cnstd>=1.2.4.2->pix2text) (8.3.50)\n",
            "Requirement already satisfied: requests>=2.23.0 in /usr/local/lib/python3.10/dist-packages (from doclayout-yolo<0.1->pix2text) (2.32.3)\n",
            "Requirement already satisfied: psutil in /usr/local/lib/python3.10/dist-packages (from doclayout-yolo<0.1->pix2text) (5.9.5)\n",
            "Requirement already satisfied: py-cpuinfo in /usr/local/lib/python3.10/dist-packages (from doclayout-yolo<0.1->pix2text) (9.0.0)\n",
            "Requirement already satisfied: thop>=0.1.1 in /usr/local/lib/python3.10/dist-packages (from doclayout-yolo<0.1->pix2text) (0.1.1.post2209072238)\n",
            "Requirement already satisfied: albumentations>=1.4.11 in /usr/local/lib/python3.10/dist-packages (from doclayout-yolo<0.1->pix2text) (1.4.20)\n",
            "Requirement already satisfied: filelock in /usr/local/lib/python3.10/dist-packages (from torch->pix2text) (3.16.1)\n",
            "Requirement already satisfied: typing-extensions>=4.8.0 in /usr/local/lib/python3.10/dist-packages (from torch->pix2text) (4.12.2)\n",
            "Requirement already satisfied: networkx in /usr/local/lib/python3.10/dist-packages (from torch->pix2text) (3.4.2)\n",
            "Requirement already satisfied: jinja2 in /usr/local/lib/python3.10/dist-packages (from torch->pix2text) (3.1.4)\n",
            "Requirement already satisfied: fsspec in /usr/local/lib/python3.10/dist-packages (from torch->pix2text) (2024.9.0)\n",
            "Requirement already satisfied: sympy==1.13.1 in /usr/local/lib/python3.10/dist-packages (from torch->pix2text) (1.13.1)\n",
            "Requirement already satisfied: mpmath<1.4,>=1.1.0 in /usr/local/lib/python3.10/dist-packages (from sympy==1.13.1->torch->pix2text) (1.3.0)\n",
            "Requirement already satisfied: packaging>=20.0 in /usr/local/lib/python3.10/dist-packages (from transformers>=4.37.0->pix2text) (24.2)\n",
            "Requirement already satisfied: regex!=2019.12.17 in /usr/local/lib/python3.10/dist-packages (from transformers>=4.37.0->pix2text) (2024.9.11)\n",
            "Requirement already satisfied: tokenizers<0.21,>=0.20 in /usr/local/lib/python3.10/dist-packages (from transformers>=4.37.0->pix2text) (0.20.3)\n",
            "Requirement already satisfied: safetensors>=0.4.1 in /usr/local/lib/python3.10/dist-packages (from transformers>=4.37.0->pix2text) (0.4.5)\n",
            "Requirement already satisfied: coloredlogs in /usr/local/lib/python3.10/dist-packages (from optimum[onnxruntime]->pix2text) (15.0.1)\n",
            "Requirement already satisfied: datasets in /usr/local/lib/python3.10/dist-packages (from optimum[onnxruntime]->pix2text) (3.2.0)\n",
            "Requirement already satisfied: evaluate in /usr/local/lib/python3.10/dist-packages (from optimum[onnxruntime]->pix2text) (0.4.3)\n",
            "Requirement already satisfied: protobuf>=3.20.1 in /usr/local/lib/python3.10/dist-packages (from optimum[onnxruntime]->pix2text) (4.25.5)\n",
            "Requirement already satisfied: pydantic>=2.7.0 in /usr/local/lib/python3.10/dist-packages (from albumentations>=1.4.11->doclayout-yolo<0.1->pix2text) (2.10.3)\n",
            "Requirement already satisfied: albucore==0.0.19 in /usr/local/lib/python3.10/dist-packages (from albumentations>=1.4.11->doclayout-yolo<0.1->pix2text) (0.0.19)\n",
            "Requirement already satisfied: eval-type-backport in /usr/local/lib/python3.10/dist-packages (from albumentations>=1.4.11->doclayout-yolo<0.1->pix2text) (0.2.0)\n",
            "Requirement already satisfied: opencv-python-headless>=4.9.0.80 in /usr/local/lib/python3.10/dist-packages (from albumentations>=1.4.11->doclayout-yolo<0.1->pix2text) (4.10.0.84)\n",
            "Requirement already satisfied: stringzilla>=3.10.4 in /usr/local/lib/python3.10/dist-packages (from albucore==0.0.19->albumentations>=1.4.11->doclayout-yolo<0.1->pix2text) (3.11.0)\n",
            "Requirement already satisfied: pyarrow>=15.0.0 in /usr/local/lib/python3.10/dist-packages (from datasets->optimum[onnxruntime]->pix2text) (17.0.0)\n",
            "Requirement already satisfied: dill<0.3.9,>=0.3.0 in /usr/local/lib/python3.10/dist-packages (from datasets->optimum[onnxruntime]->pix2text) (0.3.8)\n",
            "Requirement already satisfied: xxhash in /usr/local/lib/python3.10/dist-packages (from datasets->optimum[onnxruntime]->pix2text) (3.5.0)\n",
            "Requirement already satisfied: multiprocess<0.70.17 in /usr/local/lib/python3.10/dist-packages (from datasets->optimum[onnxruntime]->pix2text) (0.70.16)\n",
            "Requirement already satisfied: aiohttp in /usr/local/lib/python3.10/dist-packages (from datasets->optimum[onnxruntime]->pix2text) (3.11.10)\n",
            "Requirement already satisfied: contourpy>=1.0.1 in /usr/local/lib/python3.10/dist-packages (from matplotlib->cnstd>=1.2.4.2->pix2text) (1.3.1)\n",
            "Requirement already satisfied: cycler>=0.10 in /usr/local/lib/python3.10/dist-packages (from matplotlib->cnstd>=1.2.4.2->pix2text) (0.12.1)\n",
            "Requirement already satisfied: fonttools>=4.22.0 in /usr/local/lib/python3.10/dist-packages (from matplotlib->cnstd>=1.2.4.2->pix2text) (4.55.3)\n",
            "Requirement already satisfied: kiwisolver>=1.0.1 in /usr/local/lib/python3.10/dist-packages (from matplotlib->cnstd>=1.2.4.2->pix2text) (1.4.7)\n",
            "Requirement already satisfied: pyparsing>=2.3.1 in /usr/local/lib/python3.10/dist-packages (from matplotlib->cnstd>=1.2.4.2->pix2text) (3.2.0)\n",
            "Requirement already satisfied: python-dateutil>=2.7 in /usr/local/lib/python3.10/dist-packages (from matplotlib->cnstd>=1.2.4.2->pix2text) (2.8.2)\n",
            "Requirement already satisfied: flatbuffers in /usr/local/lib/python3.10/dist-packages (from onnxruntime->cnocr[ort-cpu]>=2.3.0.2->pix2text) (24.3.25)\n",
            "Requirement already satisfied: pytz>=2020.1 in /usr/local/lib/python3.10/dist-packages (from pandas->cnstd>=1.2.4.2->pix2text) (2024.2)\n",
            "Requirement already satisfied: tzdata>=2022.7 in /usr/local/lib/python3.10/dist-packages (from pandas->cnstd>=1.2.4.2->pix2text) (2024.2)\n",
            "Requirement already satisfied: lightning-utilities>=0.10.0 in /usr/local/lib/python3.10/dist-packages (from pytorch-lightning>=2.0.0->cnocr>=2.3.0.2->cnocr[ort-cpu]>=2.3.0.2->pix2text) (0.11.9)\n",
            "Requirement already satisfied: six>=1.15.0 in /usr/local/lib/python3.10/dist-packages (from rapidocr-onnxruntime<1.4->cnocr>=2.3.0.2->cnocr[ort-cpu]>=2.3.0.2->pix2text) (1.17.0)\n",
            "Requirement already satisfied: charset-normalizer<4,>=2 in /usr/local/lib/python3.10/dist-packages (from requests>=2.23.0->doclayout-yolo<0.1->pix2text) (3.4.0)\n",
            "Requirement already satisfied: idna<4,>=2.5 in /usr/local/lib/python3.10/dist-packages (from requests>=2.23.0->doclayout-yolo<0.1->pix2text) (3.10)\n",
            "Requirement already satisfied: urllib3<3,>=1.21.1 in /usr/local/lib/python3.10/dist-packages (from requests>=2.23.0->doclayout-yolo<0.1->pix2text) (2.2.3)\n",
            "Requirement already satisfied: certifi>=2017.4.17 in /usr/local/lib/python3.10/dist-packages (from requests>=2.23.0->doclayout-yolo<0.1->pix2text) (2024.8.30)\n",
            "Requirement already satisfied: humanfriendly>=9.1 in /usr/local/lib/python3.10/dist-packages (from coloredlogs->optimum[onnxruntime]->pix2text) (10.0)\n",
            "Requirement already satisfied: MarkupSafe>=2.0 in /usr/local/lib/python3.10/dist-packages (from jinja2->torch->pix2text) (3.0.2)\n",
            "Requirement already satisfied: ultralytics-thop>=2.0.0 in /usr/local/lib/python3.10/dist-packages (from ultralytics->cnstd>=1.2.4.2->pix2text) (2.0.13)\n",
            "Requirement already satisfied: docker-pycreds>=0.4.0 in /usr/local/lib/python3.10/dist-packages (from wandb->cnocr>=2.3.0.2->cnocr[ort-cpu]>=2.3.0.2->pix2text) (0.4.0)\n",
            "Requirement already satisfied: gitpython!=3.1.29,>=1.0.0 in /usr/local/lib/python3.10/dist-packages (from wandb->cnocr>=2.3.0.2->cnocr[ort-cpu]>=2.3.0.2->pix2text) (3.1.43)\n",
            "Requirement already satisfied: platformdirs in /usr/local/lib/python3.10/dist-packages (from wandb->cnocr>=2.3.0.2->cnocr[ort-cpu]>=2.3.0.2->pix2text) (4.3.6)\n",
            "Requirement already satisfied: sentry-sdk>=2.0.0 in /usr/local/lib/python3.10/dist-packages (from wandb->cnocr>=2.3.0.2->cnocr[ort-cpu]>=2.3.0.2->pix2text) (2.19.2)\n",
            "Requirement already satisfied: setproctitle in /usr/local/lib/python3.10/dist-packages (from wandb->cnocr>=2.3.0.2->cnocr[ort-cpu]>=2.3.0.2->pix2text) (1.3.4)\n",
            "Requirement already satisfied: setuptools in /usr/local/lib/python3.10/dist-packages (from wandb->cnocr>=2.3.0.2->cnocr[ort-cpu]>=2.3.0.2->pix2text) (75.1.0)\n",
            "Requirement already satisfied: aiohappyeyeballs>=2.3.0 in /usr/local/lib/python3.10/dist-packages (from aiohttp->datasets->optimum[onnxruntime]->pix2text) (2.4.4)\n",
            "Requirement already satisfied: aiosignal>=1.1.2 in /usr/local/lib/python3.10/dist-packages (from aiohttp->datasets->optimum[onnxruntime]->pix2text) (1.3.1)\n",
            "Requirement already satisfied: async-timeout<6.0,>=4.0 in /usr/local/lib/python3.10/dist-packages (from aiohttp->datasets->optimum[onnxruntime]->pix2text) (4.0.3)\n",
            "Requirement already satisfied: attrs>=17.3.0 in /usr/local/lib/python3.10/dist-packages (from aiohttp->datasets->optimum[onnxruntime]->pix2text) (24.2.0)\n",
            "Requirement already satisfied: frozenlist>=1.1.1 in /usr/local/lib/python3.10/dist-packages (from aiohttp->datasets->optimum[onnxruntime]->pix2text) (1.5.0)\n",
            "Requirement already satisfied: multidict<7.0,>=4.5 in /usr/local/lib/python3.10/dist-packages (from aiohttp->datasets->optimum[onnxruntime]->pix2text) (6.1.0)\n",
            "Requirement already satisfied: propcache>=0.2.0 in /usr/local/lib/python3.10/dist-packages (from aiohttp->datasets->optimum[onnxruntime]->pix2text) (0.2.1)\n",
            "Requirement already satisfied: yarl<2.0,>=1.17.0 in /usr/local/lib/python3.10/dist-packages (from aiohttp->datasets->optimum[onnxruntime]->pix2text) (1.18.3)\n",
            "Requirement already satisfied: gitdb<5,>=4.0.1 in /usr/local/lib/python3.10/dist-packages (from gitpython!=3.1.29,>=1.0.0->wandb->cnocr>=2.3.0.2->cnocr[ort-cpu]>=2.3.0.2->pix2text) (4.0.11)\n",
            "Requirement already satisfied: annotated-types>=0.6.0 in /usr/local/lib/python3.10/dist-packages (from pydantic>=2.7.0->albumentations>=1.4.11->doclayout-yolo<0.1->pix2text) (0.7.0)\n",
            "Requirement already satisfied: pydantic-core==2.27.1 in /usr/local/lib/python3.10/dist-packages (from pydantic>=2.7.0->albumentations>=1.4.11->doclayout-yolo<0.1->pix2text) (2.27.1)\n",
            "Requirement already satisfied: smmap<6,>=3.0.1 in /usr/local/lib/python3.10/dist-packages (from gitdb<5,>=4.0.1->gitpython!=3.1.29,>=1.0.0->wandb->cnocr>=2.3.0.2->cnocr[ort-cpu]>=2.3.0.2->pix2text) (5.0.1)\n",
            "Creating new Ultralytics Settings v0.0.6 file ✅ \n",
            "View Ultralytics Settings with 'yolo settings' or at '/root/.config/Ultralytics/settings.json'\n",
            "Update Settings with 'yolo settings key=value', i.e. 'yolo settings runs_dir=path/to/dir'. For help see https://docs.ultralytics.com/quickstart/#ultralytics-settings.\n"
          ]
        },
        {
          "output_type": "stream",
          "name": "stderr",
          "text": [
            "WARNING:cnocr.recognizer:no onnx file is found in /root/.cnocr/2.3/densenet_lite_136-gru\n",
            "WARNING:py.warnings:/usr/local/lib/python3.10/dist-packages/huggingface_hub/utils/_auth.py:94: UserWarning: \n",
            "The secret `HF_TOKEN` does not exist in your Colab secrets.\n",
            "To authenticate with the Hugging Face Hub, create a token in your settings tab (https://huggingface.co/settings/tokens), set it as secret in your Google Colab and restart your session.\n",
            "You will be able to reuse this secret in all of your notebooks.\n",
            "Please note that authentication is recommended but still optional to access public models or datasets.\n",
            "  warnings.warn(\n",
            "\n"
          ]
        },
        {
          "output_type": "display_data",
          "data": {
            "text/plain": [
              "densenet_lite_136-gru-onnx.zip:   0%|          | 0.00/11.6M [00:00<?, ?B/s]"
            ],
            "application/vnd.jupyter.widget-view+json": {
              "version_major": 2,
              "version_minor": 0,
              "model_id": "f1bc0a128b1948138e6014147125a002"
            }
          },
          "metadata": {}
        },
        {
          "output_type": "stream",
          "name": "stderr",
          "text": [
            "WARNING:cnstd.ppocr.rapid_detector:can not find model file /root/.cnstd/1.2/ppocr/ch_PP-OCRv4_det/ch_PP-OCRv4_det_infer.onnx\n",
            "2024-12-17 09:33:28,351 - OrtInferSession - WARNING: CUDAExecutionProvider is not avaiable for current env, the inference part is automatically shifted to be executed under CPUExecutionProvider.\n",
            "WARNING:OrtInferSession:CUDAExecutionProvider is not avaiable for current env, the inference part is automatically shifted to be executed under CPUExecutionProvider.\n"
          ]
        }
      ]
    },
    {
      "cell_type": "code",
      "source": [
        "from google.colab import drive\n",
        "drive.mount('/content/drive')\n",
        "\n",
        "import os\n",
        "cur_path = '/content/drive/MyDrive/PDF_SUMMARY'\n",
        "\n",
        "pdf_path = cur_path + \"/pdf\"\n",
        "data_path = cur_path + \"/data\"\n",
        "output_path = cur_path + \"/output\"\n",
        "\n",
        "if not os.path.exists(data_path):\n",
        "    os.mkdir(data_path)"
      ],
      "metadata": {
        "colab": {
          "base_uri": "https://localhost:8080/"
        },
        "id": "V2O7k0Bg94V4",
        "outputId": "4c5859c8-ce61-46cd-fc50-8d014b28e6f3"
      },
      "execution_count": null,
      "outputs": [
        {
          "output_type": "stream",
          "name": "stdout",
          "text": [
            "Mounted at /content/drive\n"
          ]
        }
      ]
    },
    {
      "cell_type": "code",
      "source": [
        "p2t = Pix2Text.from_config()"
      ],
      "metadata": {
        "colab": {
          "base_uri": "https://localhost:8080/"
        },
        "id": "6sgxA0eB_fdY",
        "outputId": "88ce08d5-31f6-43da-d388-77b38f51c77a"
      },
      "execution_count": null,
      "outputs": [
        {
          "output_type": "stream",
          "name": "stderr",
          "text": [
            "2024-12-17 09:57:03,034 - OrtInferSession - WARNING: CUDAExecutionProvider is not avaiable for current env, the inference part is automatically shifted to be executed under CPUExecutionProvider.\n",
            "WARNING:OrtInferSession:CUDAExecutionProvider is not avaiable for current env, the inference part is automatically shifted to be executed under CPUExecutionProvider.\n"
          ]
        }
      ]
    },
    {
      "cell_type": "code",
      "source": [
        "pdf_path = \"/content/drive/MyDrive/PDF_SUMMARY/pdf/1901.00031v1.pdf\"\n",
        "all_titles = get_pdf_content(pdf_path)"
      ],
      "metadata": {
        "colab": {
          "base_uri": "https://localhost:8080/"
        },
        "id": "vyCzukvENeUS",
        "outputId": "2e9f47e3-3d83-4104-c4cd-d3409e51da11"
      },
      "execution_count": 16,
      "outputs": [
        {
          "output_type": "stream",
          "name": "stdout",
          "text": [
            "\n",
            "0: 1024x800 4 titles, 9 plain texts, 3 abandons, 210.8ms\n",
            "Speed: 52.4ms preprocess, 210.8ms inference, 568.7ms postprocess per image at shape (1, 3, 1024, 800)\n",
            "Loading /root/.pix2text/1.1/mfd-onnx/mfd-v20240618.onnx for ONNX Runtime inference...\n",
            "Preferring ONNX Runtime TensorrtExecutionProvider\n",
            "*************** EP Error ***************\n",
            "EP Error /onnxruntime_src/onnxruntime/python/onnxruntime_pybind_state.cc:507 void onnxruntime::python::RegisterTensorRTPluginsAsCustomOps(PySessionOptions&, const onnxruntime::ProviderOptions&) Please install TensorRT libraries as mentioned in the GPU requirements page, make sure they're in the PATH or LD_LIBRARY_PATH, and that your GPU is supported.\n",
            " when using ['TensorrtExecutionProvider', 'CUDAExecutionProvider', 'CPUExecutionProvider']\n",
            "Falling back to ['CUDAExecutionProvider', 'CPUExecutionProvider'] and retrying.\n",
            "****************************************\n",
            "\n",
            "WARNING ⚠️ imgsz=[993, 768] must be multiple of max stride 32, updating to [1024, 768]\n",
            "0: 1024x768 (no detections), 883.5ms\n",
            "Speed: 9.1ms preprocess, 883.5ms inference, 1.3ms postprocess per image at shape (1, 3, 1024, 768)\n"
          ]
        },
        {
          "output_type": "stream",
          "name": "stderr",
          "text": [
            "0it [00:00, ?it/s]\n"
          ]
        },
        {
          "output_type": "stream",
          "name": "stdout",
          "text": [
            "title: Interest Point Detection based on Adaptive Ternary Coding\n",
            "title: I. INTRODUCTION\n",
            "title: II. THE PROPOSED INTEREST POINT DETECTOR\n",
            "title: A. Pnblem Fortudarion\n",
            "\n",
            "0: 1024x800 1 title, 7 plain texts, 1 abandon, 1 figure, 1 figure_caption, 1 isolate_formula, 1 formula_caption, 139.3ms\n",
            "Speed: 6.6ms preprocess, 139.3ms inference, 1.9ms postprocess per image at shape (1, 3, 1024, 800)\n"
          ]
        },
        {
          "output_type": "stream",
          "name": "stderr",
          "text": [
            "100%|██████████| 1/1 [00:06<00:00,  6.34s/it]\n"
          ]
        },
        {
          "output_type": "stream",
          "name": "stdout",
          "text": [
            "\n",
            "WARNING ⚠️ imgsz=[993, 768] must be multiple of max stride 32, updating to [1024, 768]\n",
            "0: 1024x768 (no detections), 610.6ms\n",
            "Speed: 4.6ms preprocess, 610.6ms inference, 0.8ms postprocess per image at shape (1, 3, 1024, 768)\n"
          ]
        },
        {
          "output_type": "stream",
          "name": "stderr",
          "text": [
            "0it [00:00, ?it/s]\n"
          ]
        },
        {
          "output_type": "stream",
          "name": "stdout",
          "text": [
            "title: B. Adapnive Termary Coding Algoriihm\n",
            "\n",
            "0: 1024x800 1 title, 13 plain texts, 1 abandon, 1 figure_caption, 1 table, 7 isolate_formulas, 7 formula_captions, 145.4ms\n",
            "Speed: 4.3ms preprocess, 145.4ms inference, 1.1ms postprocess per image at shape (1, 3, 1024, 800)\n"
          ]
        },
        {
          "output_type": "stream",
          "name": "stderr",
          "text": [
            "100%|██████████| 1/1 [00:04<00:00,  4.85s/it]\n",
            "100%|██████████| 1/1 [00:02<00:00,  2.18s/it]\n",
            "100%|██████████| 1/1 [00:01<00:00,  1.17s/it]\n",
            "100%|██████████| 1/1 [00:01<00:00,  1.02s/it]\n",
            "100%|██████████| 1/1 [00:00<00:00,  1.08it/s]\n",
            "100%|██████████| 1/1 [00:01<00:00,  1.42s/it]\n",
            "100%|██████████| 1/1 [00:02<00:00,  2.78s/it]\n"
          ]
        },
        {
          "output_type": "stream",
          "name": "stdout",
          "text": [
            "\n",
            "WARNING ⚠️ imgsz=[993, 768] must be multiple of max stride 32, updating to [1024, 768]\n",
            "0: 1024x768 (no detections), 622.6ms\n",
            "Speed: 5.0ms preprocess, 622.6ms inference, 0.8ms postprocess per image at shape (1, 3, 1024, 768)\n"
          ]
        },
        {
          "output_type": "stream",
          "name": "stderr",
          "text": [
            "0it [00:00, ?it/s]\n"
          ]
        },
        {
          "output_type": "stream",
          "name": "stdout",
          "text": [
            "title: C. The Pnoposed ATC Detector\n",
            "\n",
            "0: 1024x800 3 titles, 6 plain texts, 1 abandon, 1 figure, 1 figure_caption, 1 table, 1 table_caption, 145.9ms\n",
            "Speed: 6.2ms preprocess, 145.9ms inference, 1.2ms postprocess per image at shape (1, 3, 1024, 800)\n"
          ]
        },
        {
          "output_type": "stream",
          "name": "stderr",
          "text": [
            "WARNING:py.warnings:/usr/local/lib/python3.10/dist-packages/numpy/core/fromnumeric.py:3504: RuntimeWarning: Mean of empty slice.\n",
            "  return _methods._mean(a, axis=axis, dtype=dtype,\n",
            "\n",
            "WARNING:py.warnings:/usr/local/lib/python3.10/dist-packages/numpy/core/_methods.py:129: RuntimeWarning: invalid value encountered in scalar divide\n",
            "  ret = ret.dtype.type(ret / rcount)\n",
            "\n"
          ]
        },
        {
          "output_type": "stream",
          "name": "stdout",
          "text": [
            "\n",
            "WARNING ⚠️ imgsz=[993, 768] must be multiple of max stride 32, updating to [1024, 768]\n",
            "0: 1024x768 (no detections), 910.8ms\n",
            "Speed: 7.3ms preprocess, 910.8ms inference, 0.9ms postprocess per image at shape (1, 3, 1024, 768)\n"
          ]
        },
        {
          "output_type": "stream",
          "name": "stderr",
          "text": [
            "0it [00:00, ?it/s]\n"
          ]
        },
        {
          "output_type": "stream",
          "name": "stdout",
          "text": [
            "title: III. EXPERIMENTS\n",
            "title: A. Repeatabiliny\n",
            "title: B. Application to Fae Reeognition\n",
            "\n",
            "0: 1024x800 2 titles, 6 plain texts, 1 abandon, 2 tables, 2 table_captions, 145.8ms\n",
            "Speed: 10.9ms preprocess, 145.8ms inference, 1.4ms postprocess per image at shape (1, 3, 1024, 800)\n",
            "\n",
            "WARNING ⚠️ imgsz=[993, 768] must be multiple of max stride 32, updating to [1024, 768]\n",
            "0: 1024x768 (no detections), 617.8ms\n",
            "Speed: 4.4ms preprocess, 617.8ms inference, 1.0ms postprocess per image at shape (1, 3, 1024, 768)\n"
          ]
        },
        {
          "output_type": "stream",
          "name": "stderr",
          "text": [
            "0it [00:00, ?it/s]\n"
          ]
        },
        {
          "output_type": "stream",
          "name": "stdout",
          "text": [
            "title: IV. CONCLUSIONS\n",
            "title: REFERENCES\n",
            "\n",
            "0: 1024x800 1 plain text, 1 abandon, 141.6ms\n",
            "Speed: 4.5ms preprocess, 141.6ms inference, 1.1ms postprocess per image at shape (1, 3, 1024, 800)\n",
            "\n",
            "WARNING ⚠️ imgsz=[993, 768] must be multiple of max stride 32, updating to [1024, 768]\n",
            "0: 1024x768 (no detections), 629.3ms\n",
            "Speed: 4.3ms preprocess, 629.3ms inference, 0.7ms postprocess per image at shape (1, 3, 1024, 768)\n"
          ]
        },
        {
          "output_type": "stream",
          "name": "stderr",
          "text": [
            "0it [00:00, ?it/s]\n"
          ]
        }
      ]
    },
    {
      "cell_type": "code",
      "source": [
        "output_path = \"/content/drive/MyDrive/PDF_SUMMARY/output\"\n",
        "if not os.path.exists(output_path):\n",
        "    os.makedirs(output_path)"
      ],
      "metadata": {
        "id": "-P9HLkDBOCOB"
      },
      "execution_count": 17,
      "outputs": []
    },
    {
      "cell_type": "code",
      "source": [
        "sections = parse_titles(all_titles)\n",
        "print(sections)\n"
      ],
      "metadata": {
        "id": "1GBjHx3eODhc",
        "colab": {
          "base_uri": "https://localhost:8080/"
        },
        "outputId": "944efe00-1564-4583-ea2e-b4602810941f"
      },
      "execution_count": 18,
      "outputs": [
        {
          "output_type": "stream",
          "name": "stdout",
          "text": [
            "{'II. THE PROPOSED INTEREST POINT DETECTOR': ['A. Pnblem Fortudarion', 'B. Adapnive Termary Coding Algoriihm', 'C. The Pnoposed ATC Detector'], 'III. EXPERIMENTS': ['A. Repeatabiliny', 'B. Application to Fae Reeognition'], 'IV. CONCLUSIONS': []}\n"
          ]
        }
      ]
    },
    {
      "cell_type": "code",
      "source": [
        "from pix2text import set_logger, Pix2Text\n",
        "from pix2text.layout_parser import ElementType\n",
        "import fitz\n",
        "import os\n",
        "\n",
        "# Set the output path for saving files\n",
        "output_path = '/content/drive/MyDrive/PDF_SUMMARY/output'\n",
        "if not os.path.exists(output_path):\n",
        "    os.makedirs(output_path)\n",
        "\n",
        "# Function to extract page content\n",
        "def get_page_content(page_img, page_num):\n",
        "    titles = []\n",
        "    page_output_path = output_path + '/' + str(page_num) + '/output-md'\n",
        "    try:\n",
        "        doc = p2t.recognize_page(page_img, table_as_image=True, text_contain_formula=False, save_debug_res=output_path + \"/log\")\n",
        "        doc.to_markdown(page_output_path)\n",
        "\n",
        "        for i, _ in enumerate(doc.elements):\n",
        "            if doc.elements[i].type == ElementType.TITLE:\n",
        "                print(\"title:\", doc.elements[i].text)\n",
        "                titles.append(doc.elements[i].text)\n",
        "    except Exception as e:\n",
        "        print(e)\n",
        "    return page_output_path, titles\n",
        "\n",
        "# Function to extract titles and content from a PDF\n",
        "def get_pdf_content(pdf_file):\n",
        "    all_titles = []\n",
        "    try:\n",
        "        fitz.TOOLS.mupdf_warnings()  # Clear warnings\n",
        "        doc = fitz.open(pdf_file)\n",
        "        warnings = fitz.TOOLS.mupdf_warnings()\n",
        "        if warnings:\n",
        "            print(warnings)\n",
        "            raise RuntimeError()\n",
        "\n",
        "        for i, page in enumerate(doc):  # Iterate through pages\n",
        "            try:\n",
        "                img = page.get_pixmap()  # Render page to image\n",
        "                img_path = output_path + f\"/{i}.png\"\n",
        "                img.save(img_path)  # Save image as PNG\n",
        "                page_folder, titles = get_page_content(img_path, i)\n",
        "\n",
        "                # Append extracted text to all_text.md\n",
        "                with open(page_folder + \"/output.md\", \"r\") as newfile:\n",
        "                    text = newfile.read()\n",
        "\n",
        "                with open(output_path + \"/all_text.md\", \"a\") as myfile:\n",
        "                    myfile.write(text + \"\\n\")\n",
        "\n",
        "                if titles:\n",
        "                    all_titles.extend(titles)\n",
        "            except:\n",
        "                print(f\"Error handling the image file {pdf_file} - page {i}\")\n",
        "                return None\n",
        "\n",
        "        return all_titles\n",
        "    except:\n",
        "        print(f\"Error opening the PDF file {pdf_file}\")\n",
        "        return None\n",
        "\n",
        "# Function to parse extracted titles\n",
        "def parse_titles(title_list):\n",
        "    caption = title_list[0]\n",
        "    authors = title_list[1]\n",
        "    sections = {}\n",
        "    section_titles = ['I.', 'II.', 'III.', 'IV.', 'V.', 'VI.', 'VII.', 'VIII.', 'IX.', 'X']\n",
        "    subsection_titles = ['A.', 'B.', 'C.', 'D.', 'E.', 'F.', 'G.', 'H.', 'I.']\n",
        "    cur_title = ''\n",
        "\n",
        "    for title in title_list[2:]:\n",
        "        t = title.split()[0].strip()\n",
        "        if t in section_titles:\n",
        "            sections[title] = []\n",
        "            cur_title = title\n",
        "        elif t in subsection_titles:\n",
        "            sections[cur_title].append(title)\n",
        "    return sections\n",
        "\n",
        "# Example usage\n",
        "pdf_path = '/content/drive/MyDrive/PDF_SUMMARY/pdf/1901.00031v1.pdf'\n",
        "all_titles = get_pdf_content(pdf_path)\n",
        "sections = parse_titles(all_titles)\n",
        "print(sections)\n"
      ],
      "metadata": {
        "colab": {
          "base_uri": "https://localhost:8080/"
        },
        "id": "Iit4OcufO4CU",
        "outputId": "077eea34-a7d5-469b-8502-635b5b74fc76"
      },
      "execution_count": 19,
      "outputs": [
        {
          "output_type": "stream",
          "name": "stdout",
          "text": [
            "\n",
            "0: 1024x800 4 titles, 9 plain texts, 3 abandons, 145.9ms\n",
            "Speed: 5.2ms preprocess, 145.9ms inference, 1.2ms postprocess per image at shape (1, 3, 1024, 800)\n",
            "\n",
            "WARNING ⚠️ imgsz=[993, 768] must be multiple of max stride 32, updating to [1024, 768]\n",
            "0: 1024x768 (no detections), 615.0ms\n",
            "Speed: 4.3ms preprocess, 615.0ms inference, 0.9ms postprocess per image at shape (1, 3, 1024, 768)\n"
          ]
        },
        {
          "output_type": "stream",
          "name": "stderr",
          "text": [
            "0it [00:00, ?it/s]\n"
          ]
        },
        {
          "output_type": "stream",
          "name": "stdout",
          "text": [
            "title: Interest Point Detection based on Adaptive Ternary Coding\n",
            "title: I. INTRODUCTION\n",
            "title: II. THE PROPOSED INTEREST POINT DETECTOR\n",
            "title: A. Pnblem Fortudarion\n",
            "\n",
            "0: 1024x800 1 title, 7 plain texts, 1 abandon, 1 figure, 1 figure_caption, 1 isolate_formula, 1 formula_caption, 138.9ms\n",
            "Speed: 4.7ms preprocess, 138.9ms inference, 1.1ms postprocess per image at shape (1, 3, 1024, 800)\n"
          ]
        },
        {
          "output_type": "stream",
          "name": "stderr",
          "text": [
            "100%|██████████| 1/1 [00:05<00:00,  5.69s/it]\n"
          ]
        },
        {
          "output_type": "stream",
          "name": "stdout",
          "text": [
            "\n",
            "WARNING ⚠️ imgsz=[993, 768] must be multiple of max stride 32, updating to [1024, 768]\n",
            "0: 1024x768 (no detections), 612.3ms\n",
            "Speed: 4.3ms preprocess, 612.3ms inference, 0.8ms postprocess per image at shape (1, 3, 1024, 768)\n"
          ]
        },
        {
          "output_type": "stream",
          "name": "stderr",
          "text": [
            "0it [00:00, ?it/s]\n"
          ]
        },
        {
          "output_type": "stream",
          "name": "stdout",
          "text": [
            "title: B. Adapnive Termary Coding Algoriihm\n",
            "\n",
            "0: 1024x800 1 title, 13 plain texts, 1 abandon, 1 figure_caption, 1 table, 7 isolate_formulas, 7 formula_captions, 145.8ms\n",
            "Speed: 4.5ms preprocess, 145.8ms inference, 1.2ms postprocess per image at shape (1, 3, 1024, 800)\n"
          ]
        },
        {
          "output_type": "stream",
          "name": "stderr",
          "text": [
            "100%|██████████| 1/1 [00:06<00:00,  6.27s/it]\n",
            "100%|██████████| 1/1 [00:01<00:00,  1.79s/it]\n",
            "100%|██████████| 1/1 [00:01<00:00,  1.63s/it]\n",
            "100%|██████████| 1/1 [00:01<00:00,  1.64s/it]\n",
            "100%|██████████| 1/1 [00:00<00:00,  1.60it/s]\n",
            "100%|██████████| 1/1 [00:00<00:00,  1.21it/s]\n",
            "100%|██████████| 1/1 [00:02<00:00,  2.84s/it]\n"
          ]
        },
        {
          "output_type": "stream",
          "name": "stdout",
          "text": [
            "\n",
            "WARNING ⚠️ imgsz=[993, 768] must be multiple of max stride 32, updating to [1024, 768]\n",
            "0: 1024x768 (no detections), 941.1ms\n",
            "Speed: 6.6ms preprocess, 941.1ms inference, 1.0ms postprocess per image at shape (1, 3, 1024, 768)\n"
          ]
        },
        {
          "output_type": "stream",
          "name": "stderr",
          "text": [
            "0it [00:00, ?it/s]\n"
          ]
        },
        {
          "output_type": "stream",
          "name": "stdout",
          "text": [
            "title: C. The Pnoposed ATC Detector\n",
            "\n",
            "0: 1024x800 3 titles, 6 plain texts, 1 abandon, 1 figure, 1 figure_caption, 1 table, 1 table_caption, 145.9ms\n",
            "Speed: 10.9ms preprocess, 145.9ms inference, 1.6ms postprocess per image at shape (1, 3, 1024, 800)\n",
            "\n",
            "WARNING ⚠️ imgsz=[993, 768] must be multiple of max stride 32, updating to [1024, 768]\n",
            "0: 1024x768 (no detections), 630.7ms\n",
            "Speed: 4.4ms preprocess, 630.7ms inference, 0.9ms postprocess per image at shape (1, 3, 1024, 768)\n"
          ]
        },
        {
          "output_type": "stream",
          "name": "stderr",
          "text": [
            "0it [00:00, ?it/s]\n"
          ]
        },
        {
          "output_type": "stream",
          "name": "stdout",
          "text": [
            "title: III. EXPERIMENTS\n",
            "title: A. Repeatabiliny\n",
            "title: B. Application to Fae Reeognition\n",
            "\n",
            "0: 1024x800 2 titles, 6 plain texts, 1 abandon, 2 tables, 2 table_captions, 145.9ms\n",
            "Speed: 6.9ms preprocess, 145.9ms inference, 1.4ms postprocess per image at shape (1, 3, 1024, 800)\n",
            "\n",
            "WARNING ⚠️ imgsz=[993, 768] must be multiple of max stride 32, updating to [1024, 768]\n",
            "0: 1024x768 (no detections), 589.2ms\n",
            "Speed: 4.4ms preprocess, 589.2ms inference, 0.8ms postprocess per image at shape (1, 3, 1024, 768)\n"
          ]
        },
        {
          "output_type": "stream",
          "name": "stderr",
          "text": [
            "0it [00:00, ?it/s]\n"
          ]
        },
        {
          "output_type": "stream",
          "name": "stdout",
          "text": [
            "title: IV. CONCLUSIONS\n",
            "title: REFERENCES\n",
            "\n",
            "0: 1024x800 1 plain text, 1 abandon, 145.8ms\n",
            "Speed: 5.2ms preprocess, 145.8ms inference, 1.1ms postprocess per image at shape (1, 3, 1024, 800)\n",
            "\n",
            "WARNING ⚠️ imgsz=[993, 768] must be multiple of max stride 32, updating to [1024, 768]\n",
            "0: 1024x768 (no detections), 602.8ms\n",
            "Speed: 4.4ms preprocess, 602.8ms inference, 0.7ms postprocess per image at shape (1, 3, 1024, 768)\n"
          ]
        },
        {
          "output_type": "stream",
          "name": "stderr",
          "text": [
            "0it [00:00, ?it/s]\n"
          ]
        },
        {
          "output_type": "stream",
          "name": "stdout",
          "text": [
            "{'II. THE PROPOSED INTEREST POINT DETECTOR': ['A. Pnblem Fortudarion', 'B. Adapnive Termary Coding Algoriihm', 'C. The Pnoposed ATC Detector'], 'III. EXPERIMENTS': ['A. Repeatabiliny', 'B. Application to Fae Reeognition'], 'IV. CONCLUSIONS': []}\n"
          ]
        }
      ]
    }
  ]
}