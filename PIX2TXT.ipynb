{
  "nbformat": 4,
  "nbformat_minor": 0,
  "metadata": {
    "colab": {
      "provenance": [],
      "gpuType": "T4",
      "mount_file_id": "1YGncXkbKRM69sCY6l1nxiGHY_6woNABP",
      "authorship_tag": "ABX9TyNilMUtpJk/SNikB2C3scZN",
      "include_colab_link": true
    },
    "kernelspec": {
      "name": "python3",
      "display_name": "Python 3"
    },
    "language_info": {
      "name": "python"
    },
    "accelerator": "GPU"
  },
  "cells": [
    {
      "cell_type": "markdown",
      "metadata": {
        "id": "view-in-github",
        "colab_type": "text"
      },
      "source": [
        "<a href=\"https://colab.research.google.com/github/AbduRouf/MATHYPOTHESIS/blob/main/PIX2TXT.ipynb\" target=\"_parent\"><img src=\"https://colab.research.google.com/assets/colab-badge.svg\" alt=\"Open In Colab\"/></a>"
      ]
    },
    {
      "cell_type": "code",
      "source": [
        "!pip uninstall onnxruntime -y\n",
        "!pip install onnxruntime-gpu"
      ],
      "metadata": {
        "colab": {
          "base_uri": "https://localhost:8080/"
        },
        "id": "zoYukznXxMqk",
        "outputId": "cb9213b4-cdb2-4ab7-f457-77acd613866f"
      },
      "execution_count": 1,
      "outputs": [
        {
          "output_type": "stream",
          "name": "stdout",
          "text": [
            "\u001b[33mWARNING: Skipping onnxruntime as it is not installed.\u001b[0m\u001b[33m\n",
            "\u001b[0mRequirement already satisfied: onnxruntime-gpu in /usr/local/lib/python3.10/dist-packages (1.20.1)\n",
            "Requirement already satisfied: coloredlogs in /usr/local/lib/python3.10/dist-packages (from onnxruntime-gpu) (15.0.1)\n",
            "Requirement already satisfied: flatbuffers in /usr/local/lib/python3.10/dist-packages (from onnxruntime-gpu) (24.3.25)\n",
            "Requirement already satisfied: numpy>=1.21.6 in /usr/local/lib/python3.10/dist-packages (from onnxruntime-gpu) (1.26.4)\n",
            "Requirement already satisfied: packaging in /usr/local/lib/python3.10/dist-packages (from onnxruntime-gpu) (24.2)\n",
            "Requirement already satisfied: protobuf in /usr/local/lib/python3.10/dist-packages (from onnxruntime-gpu) (4.25.5)\n",
            "Requirement already satisfied: sympy in /usr/local/lib/python3.10/dist-packages (from onnxruntime-gpu) (1.13.1)\n",
            "Requirement already satisfied: humanfriendly>=9.1 in /usr/local/lib/python3.10/dist-packages (from coloredlogs->onnxruntime-gpu) (10.0)\n",
            "Requirement already satisfied: mpmath<1.4,>=1.1.0 in /usr/local/lib/python3.10/dist-packages (from sympy->onnxruntime-gpu) (1.3.0)\n"
          ]
        }
      ]
    },
    {
      "cell_type": "code",
      "source": [
        "import onnxruntime as ort\n",
        "print(\"Available Providers:\", ort.get_available_providers())\n"
      ],
      "metadata": {
        "colab": {
          "base_uri": "https://localhost:8080/"
        },
        "id": "PDjgHohMxfJ6",
        "outputId": "77934959-f739-4182-dc58-19fdafd4470f"
      },
      "execution_count": 2,
      "outputs": [
        {
          "output_type": "stream",
          "name": "stdout",
          "text": [
            "Available Providers: ['TensorrtExecutionProvider', 'CUDAExecutionProvider', 'CPUExecutionProvider']\n"
          ]
        }
      ]
    },
    {
      "cell_type": "code",
      "source": [
        "from pix2text import Pix2Text\n",
        "\n",
        "img_fp = '/content/MAT PAPER.pdf'\n",
        "p2t = Pix2Text.from_config({\"device\": \"cuda\"})  # Force GPU execution\n",
        "doc = p2t.recognize_pdf(img_fp)\n",
        "doc.to_markdown('output-md')  # Save to markdown\n"
      ],
      "metadata": {
        "colab": {
          "base_uri": "https://localhost:8080/",
          "height": 1000
        },
        "id": "bKayY0Ezxjs9",
        "outputId": "a65dd3ee-ee48-4b60-d388-0ac98d50f504"
      },
      "execution_count": 5,
      "outputs": [
        {
          "output_type": "stream",
          "name": "stderr",
          "text": [
            "2024-12-17 08:53:45,172 - OrtInferSession - WARNING: CUDAExecutionProvider is not avaiable for current env, the inference part is automatically shifted to be executed under CPUExecutionProvider.\n",
            "WARNING:OrtInferSession:CUDAExecutionProvider is not avaiable for current env, the inference part is automatically shifted to be executed under CPUExecutionProvider.\n"
          ]
        },
        {
          "output_type": "stream",
          "name": "stdout",
          "text": [
            "\n",
            "0: 1024x800 3 titles, 5 plain texts, 7 abandons, 110.6ms\n",
            "Speed: 9.7ms preprocess, 110.6ms inference, 1.6ms postprocess per image at shape (1, 3, 1024, 800)\n",
            "Loading /root/.pix2text/1.1/mfd-onnx/mfd-v20240618.onnx for ONNX Runtime inference...\n",
            "Preferring ONNX Runtime TensorrtExecutionProvider\n",
            "*************** EP Error ***************\n",
            "EP Error /onnxruntime_src/onnxruntime/python/onnxruntime_pybind_state.cc:507 void onnxruntime::python::RegisterTensorRTPluginsAsCustomOps(PySessionOptions&, const onnxruntime::ProviderOptions&) Please install TensorRT libraries as mentioned in the GPU requirements page, make sure they're in the PATH or LD_LIBRARY_PATH, and that your GPU is supported.\n",
            " when using ['TensorrtExecutionProvider', 'CUDAExecutionProvider', 'CPUExecutionProvider']\n",
            "Falling back to ['CUDAExecutionProvider', 'CPUExecutionProvider'] and retrying.\n",
            "****************************************\n",
            "\n",
            "WARNING ⚠️ imgsz=[147, 1728] must be multiple of max stride 32, updating to [160, 1728]\n",
            "0: 160x1728 (no detections), 308.6ms\n",
            "Speed: 3.1ms preprocess, 308.6ms inference, 0.9ms postprocess per image at shape (1, 3, 160, 1728)\n"
          ]
        },
        {
          "output_type": "stream",
          "name": "stderr",
          "text": [
            "0it [00:00, ?it/s]\n"
          ]
        },
        {
          "output_type": "stream",
          "name": "stdout",
          "text": [
            "\n",
            "WARNING ⚠️ imgsz=[121, 1152] must be multiple of max stride 32, updating to [128, 1152]\n",
            "0: 128x1152 2 embeddings, 101.5ms\n",
            "Speed: 1.6ms preprocess, 101.5ms inference, 1.5ms postprocess per image at shape (1, 3, 128, 1152)\n"
          ]
        },
        {
          "output_type": "stream",
          "name": "stderr",
          "text": [
            "100%|██████████| 2/2 [00:01<00:00,  1.81it/s]\n"
          ]
        },
        {
          "output_type": "stream",
          "name": "stdout",
          "text": [
            "\n",
            "WARNING ⚠️ imgsz=[264, 768] must be multiple of max stride 32, updating to [288, 768]\n",
            "0: 288x768 1 isolated, 174.3ms\n",
            "Speed: 2.2ms preprocess, 174.3ms inference, 1.5ms postprocess per image at shape (1, 3, 288, 768)\n"
          ]
        },
        {
          "output_type": "stream",
          "name": "stderr",
          "text": [
            "100%|██████████| 1/1 [00:00<00:00,  1.03it/s]\n"
          ]
        },
        {
          "output_type": "stream",
          "name": "stdout",
          "text": [
            "\n",
            "WARNING ⚠️ imgsz=[536, 1152] must be multiple of max stride 32, updating to [544, 1152]\n",
            "0: 544x1152 1 embedding, 481.0ms\n",
            "Speed: 3.9ms preprocess, 481.0ms inference, 1.5ms postprocess per image at shape (1, 3, 544, 1152)\n"
          ]
        },
        {
          "output_type": "stream",
          "name": "stderr",
          "text": [
            "100%|██████████| 1/1 [00:00<00:00,  1.50it/s]\n"
          ]
        },
        {
          "output_type": "stream",
          "name": "stdout",
          "text": [
            "\n",
            "WARNING ⚠️ imgsz=[406, 768] must be multiple of max stride 32, updating to [416, 768]\n",
            "0: 416x768 (no detections), 242.4ms\n",
            "Speed: 2.7ms preprocess, 242.4ms inference, 0.7ms postprocess per image at shape (1, 3, 416, 768)\n"
          ]
        },
        {
          "output_type": "stream",
          "name": "stderr",
          "text": [
            "0it [00:00, ?it/s]\n"
          ]
        },
        {
          "output_type": "stream",
          "name": "stdout",
          "text": [
            "\n",
            "WARNING ⚠️ imgsz=[1020, 768] must be multiple of max stride 32, updating to [1024, 768]\n",
            "0: 1024x768 (no detections), 612.9ms\n",
            "Speed: 5.9ms preprocess, 612.9ms inference, 0.7ms postprocess per image at shape (1, 3, 1024, 768)\n"
          ]
        },
        {
          "output_type": "stream",
          "name": "stderr",
          "text": [
            "0it [00:00, ?it/s]\n"
          ]
        },
        {
          "output_type": "stream",
          "name": "stdout",
          "text": [
            "\n",
            "0: 1024x800 2 titles, 4 plain texts, 2 abandons, 1 figure, 142.8ms\n",
            "Speed: 6.1ms preprocess, 142.8ms inference, 1.3ms postprocess per image at shape (1, 3, 1024, 800)\n",
            "\n",
            "WARNING ⚠️ imgsz=[862, 768] must be multiple of max stride 32, updating to [864, 768]\n",
            "0: 864x768 3 embeddings, 764.4ms\n",
            "Speed: 8.2ms preprocess, 764.4ms inference, 2.5ms postprocess per image at shape (1, 3, 864, 768)\n"
          ]
        },
        {
          "output_type": "stream",
          "name": "stderr",
          "text": [
            "100%|██████████| 3/3 [00:01<00:00,  1.64it/s]\n"
          ]
        },
        {
          "output_type": "stream",
          "name": "stdout",
          "text": [
            "\n",
            "WARNING ⚠️ imgsz=[592, 768] must be multiple of max stride 32, updating to [608, 768]\n",
            "0: 608x768 (no detections), 339.5ms\n",
            "Speed: 3.2ms preprocess, 339.5ms inference, 0.8ms postprocess per image at shape (1, 3, 608, 768)\n"
          ]
        },
        {
          "output_type": "stream",
          "name": "stderr",
          "text": [
            "0it [00:00, ?it/s]\n"
          ]
        },
        {
          "output_type": "stream",
          "name": "stdout",
          "text": [
            "\n",
            "WARNING ⚠️ imgsz=[475, 768] must be multiple of max stride 32, updating to [480, 768]\n",
            "0: 480x768 1 embedding, 263.1ms\n",
            "Speed: 2.5ms preprocess, 263.1ms inference, 1.5ms postprocess per image at shape (1, 3, 480, 768)\n"
          ]
        },
        {
          "output_type": "stream",
          "name": "stderr",
          "text": [
            "100%|██████████| 1/1 [00:00<00:00,  1.87it/s]\n"
          ]
        },
        {
          "output_type": "stream",
          "name": "stdout",
          "text": [
            "\n",
            "WARNING ⚠️ imgsz=[279, 768] must be multiple of max stride 32, updating to [288, 768]\n",
            "0: 288x768 (no detections), 173.8ms\n",
            "Speed: 1.7ms preprocess, 173.8ms inference, 0.8ms postprocess per image at shape (1, 3, 288, 768)\n"
          ]
        },
        {
          "output_type": "stream",
          "name": "stderr",
          "text": [
            "0it [00:00, ?it/s]\n"
          ]
        },
        {
          "output_type": "stream",
          "name": "stdout",
          "text": [
            "\n",
            "WARNING ⚠️ imgsz=[1020, 768] must be multiple of max stride 32, updating to [1024, 768]\n",
            "0: 1024x768 (no detections), 618.3ms\n",
            "Speed: 6.0ms preprocess, 618.3ms inference, 0.7ms postprocess per image at shape (1, 3, 1024, 768)\n"
          ]
        },
        {
          "output_type": "stream",
          "name": "stderr",
          "text": [
            "0it [00:00, ?it/s]\n"
          ]
        },
        {
          "output_type": "stream",
          "name": "stdout",
          "text": [
            "\n",
            "0: 1024x800 3 titles, 5 plain texts, 2 abandons, 1 figure, 1 figure_caption, 142.8ms\n",
            "Speed: 8.1ms preprocess, 142.8ms inference, 1.3ms postprocess per image at shape (1, 3, 1024, 800)\n",
            "\n",
            "WARNING ⚠️ imgsz=[593, 768] must be multiple of max stride 32, updating to [608, 768]\n",
            "0: 608x768 1 embedding, 386.8ms\n",
            "Speed: 5.4ms preprocess, 386.8ms inference, 1.5ms postprocess per image at shape (1, 3, 608, 768)\n"
          ]
        },
        {
          "output_type": "stream",
          "name": "stderr",
          "text": [
            "100%|██████████| 1/1 [00:00<00:00,  1.89it/s]\n"
          ]
        },
        {
          "output_type": "stream",
          "name": "stdout",
          "text": [
            "\n",
            "WARNING ⚠️ imgsz=[169, 768] must be multiple of max stride 32, updating to [192, 768]\n",
            "0: 192x768 (no detections), 105.4ms\n",
            "Speed: 1.4ms preprocess, 105.4ms inference, 0.7ms postprocess per image at shape (1, 3, 192, 768)\n"
          ]
        },
        {
          "output_type": "stream",
          "name": "stderr",
          "text": [
            "0it [00:00, ?it/s]\n"
          ]
        },
        {
          "output_type": "stream",
          "name": "stdout",
          "text": [
            "\n",
            "WARNING ⚠️ imgsz=[596, 768] must be multiple of max stride 32, updating to [608, 768]\n",
            "0: 608x768 11 embeddings, 532.5ms\n",
            "Speed: 5.0ms preprocess, 532.5ms inference, 2.1ms postprocess per image at shape (1, 3, 608, 768)\n"
          ]
        },
        {
          "output_type": "stream",
          "name": "stderr",
          "text": [
            "100%|██████████| 11/11 [00:06<00:00,  1.64it/s]\n"
          ]
        },
        {
          "output_type": "stream",
          "name": "stdout",
          "text": [
            "\n",
            "WARNING ⚠️ imgsz=[861, 768] must be multiple of max stride 32, updating to [864, 768]\n",
            "0: 864x768 4 embeddings, 488.8ms\n",
            "Speed: 4.4ms preprocess, 488.8ms inference, 1.6ms postprocess per image at shape (1, 3, 864, 768)\n"
          ]
        },
        {
          "output_type": "stream",
          "name": "stderr",
          "text": [
            "100%|██████████| 4/4 [00:02<00:00,  1.83it/s]\n"
          ]
        },
        {
          "output_type": "stream",
          "name": "stdout",
          "text": [
            "\n",
            "WARNING ⚠️ imgsz=[404, 768] must be multiple of max stride 32, updating to [416, 768]\n",
            "0: 416x768 1 embedding, 358.0ms\n",
            "Speed: 3.5ms preprocess, 358.0ms inference, 1.8ms postprocess per image at shape (1, 3, 416, 768)\n"
          ]
        },
        {
          "output_type": "stream",
          "name": "stderr",
          "text": [
            "100%|██████████| 1/1 [00:00<00:00,  1.23it/s]\n"
          ]
        },
        {
          "output_type": "stream",
          "name": "stdout",
          "text": [
            "\n",
            "WARNING ⚠️ imgsz=[90, 1152] must be multiple of max stride 32, updating to [96, 1152]\n",
            "0: 96x1152 (no detections), 118.7ms\n",
            "Speed: 1.6ms preprocess, 118.7ms inference, 1.0ms postprocess per image at shape (1, 3, 96, 1152)\n"
          ]
        },
        {
          "output_type": "stream",
          "name": "stderr",
          "text": [
            "0it [00:00, ?it/s]\n"
          ]
        },
        {
          "output_type": "stream",
          "name": "stdout",
          "text": [
            "\n",
            "WARNING ⚠️ imgsz=[1020, 768] must be multiple of max stride 32, updating to [1024, 768]\n",
            "0: 1024x768 (no detections), 851.0ms\n",
            "Speed: 5.9ms preprocess, 851.0ms inference, 1.1ms postprocess per image at shape (1, 3, 1024, 768)\n"
          ]
        },
        {
          "output_type": "stream",
          "name": "stderr",
          "text": [
            "0it [00:00, ?it/s]\n"
          ]
        },
        {
          "output_type": "stream",
          "name": "stdout",
          "text": [
            "\n",
            "0: 1024x800 1 title, 6 plain texts, 3 abandons, 2 figures, 2 figure_captions, 2 isolate_formulas, 2 formula_captions, 142.8ms\n",
            "Speed: 6.3ms preprocess, 142.8ms inference, 1.6ms postprocess per image at shape (1, 3, 1024, 800)\n",
            "\n",
            "WARNING ⚠️ imgsz=[553, 768] must be multiple of max stride 32, updating to [576, 768]\n",
            "0: 576x768 8 embeddings, 314.5ms\n",
            "Speed: 3.9ms preprocess, 314.5ms inference, 1.5ms postprocess per image at shape (1, 3, 576, 768)\n"
          ]
        },
        {
          "output_type": "stream",
          "name": "stderr",
          "text": [
            "100%|██████████| 8/8 [00:02<00:00,  2.76it/s]\n"
          ]
        },
        {
          "output_type": "stream",
          "name": "stdout",
          "text": [
            "\n",
            "WARNING ⚠️ imgsz=[403, 768] must be multiple of max stride 32, updating to [416, 768]\n",
            "0: 416x768 (no detections), 229.1ms\n",
            "Speed: 2.4ms preprocess, 229.1ms inference, 0.7ms postprocess per image at shape (1, 3, 416, 768)\n"
          ]
        },
        {
          "output_type": "stream",
          "name": "stderr",
          "text": [
            "0it [00:00, ?it/s]\n"
          ]
        },
        {
          "output_type": "stream",
          "name": "stdout",
          "text": [
            "\n",
            "WARNING ⚠️ imgsz=[402, 768] must be multiple of max stride 32, updating to [416, 768]\n",
            "0: 416x768 (no detections), 225.7ms\n",
            "Speed: 2.4ms preprocess, 225.7ms inference, 0.7ms postprocess per image at shape (1, 3, 416, 768)\n"
          ]
        },
        {
          "output_type": "stream",
          "name": "stderr",
          "text": [
            "0it [00:00, ?it/s]\n"
          ]
        },
        {
          "output_type": "stream",
          "name": "stdout",
          "text": [
            "\n",
            "WARNING ⚠️ imgsz=[355, 768] must be multiple of max stride 32, updating to [384, 768]\n",
            "0: 384x768 (no detections), 311.0ms\n",
            "Speed: 4.6ms preprocess, 311.0ms inference, 0.9ms postprocess per image at shape (1, 3, 384, 768)\n"
          ]
        },
        {
          "output_type": "stream",
          "name": "stderr",
          "text": [
            "0it [00:00, ?it/s]\n",
            "100%|██████████| 1/1 [00:00<00:00,  1.10it/s]\n",
            "100%|██████████| 1/1 [00:01<00:00,  1.85s/it]"
          ]
        },
        {
          "output_type": "stream",
          "name": "stdout",
          "text": [
            "\n",
            "WARNING ⚠️ imgsz=[279, 768] must be multiple of max stride 32, updating to [288, 768]\n"
          ]
        },
        {
          "output_type": "stream",
          "name": "stderr",
          "text": [
            "\n"
          ]
        },
        {
          "output_type": "stream",
          "name": "stdout",
          "text": [
            "0: 288x768 4 embeddings, 264.7ms\n",
            "Speed: 3.4ms preprocess, 264.7ms inference, 2.2ms postprocess per image at shape (1, 3, 288, 768)\n"
          ]
        },
        {
          "output_type": "stream",
          "name": "stderr",
          "text": [
            "100%|██████████| 4/4 [00:01<00:00,  2.46it/s]\n"
          ]
        },
        {
          "output_type": "stream",
          "name": "stdout",
          "text": [
            "\n",
            "WARNING ⚠️ imgsz=[279, 768] must be multiple of max stride 32, updating to [288, 768]\n",
            "0: 288x768 1 embedding, 150.7ms\n",
            "Speed: 1.6ms preprocess, 150.7ms inference, 1.5ms postprocess per image at shape (1, 3, 288, 768)\n"
          ]
        },
        {
          "output_type": "stream",
          "name": "stderr",
          "text": [
            "100%|██████████| 1/1 [00:00<00:00,  2.30it/s]\n"
          ]
        },
        {
          "output_type": "stream",
          "name": "stdout",
          "text": [
            "\n",
            "0: 96x768 (no detections), 51.2ms\n",
            "Speed: 1.8ms preprocess, 51.2ms inference, 0.7ms postprocess per image at shape (1, 3, 96, 768)\n"
          ]
        },
        {
          "output_type": "stream",
          "name": "stderr",
          "text": [
            "0it [00:00, ?it/s]\n"
          ]
        },
        {
          "output_type": "stream",
          "name": "stdout",
          "text": [
            "\n",
            "WARNING ⚠️ imgsz=[346, 768] must be multiple of max stride 32, updating to [352, 768]\n",
            "0: 352x768 (no detections), 204.2ms\n",
            "Speed: 2.4ms preprocess, 204.2ms inference, 0.7ms postprocess per image at shape (1, 3, 352, 768)\n"
          ]
        },
        {
          "output_type": "stream",
          "name": "stderr",
          "text": [
            "0it [00:00, ?it/s]\n"
          ]
        },
        {
          "output_type": "stream",
          "name": "stdout",
          "text": [
            "\n",
            "WARNING ⚠️ imgsz=[1020, 768] must be multiple of max stride 32, updating to [1024, 768]\n",
            "0: 1024x768 (no detections), 983.0ms\n",
            "Speed: 12.7ms preprocess, 983.0ms inference, 1.0ms postprocess per image at shape (1, 3, 1024, 768)\n"
          ]
        },
        {
          "output_type": "stream",
          "name": "stderr",
          "text": [
            "0it [00:00, ?it/s]\n"
          ]
        },
        {
          "output_type": "stream",
          "name": "stdout",
          "text": [
            "\n",
            "0: 1024x800 1 title, 5 plain texts, 2 abandons, 1 figure, 1 figure_caption, 142.8ms\n",
            "Speed: 9.2ms preprocess, 142.8ms inference, 1.1ms postprocess per image at shape (1, 3, 1024, 800)\n",
            "\n",
            "WARNING ⚠️ imgsz=[753, 768] must be multiple of max stride 32, updating to [768, 768]\n",
            "0: 768x768 11 embeddings, 451.6ms\n",
            "Speed: 3.8ms preprocess, 451.6ms inference, 1.5ms postprocess per image at shape (1, 3, 768, 768)\n"
          ]
        },
        {
          "output_type": "stream",
          "name": "stderr",
          "text": [
            "100%|██████████| 11/11 [00:04<00:00,  2.36it/s]\n"
          ]
        },
        {
          "output_type": "stream",
          "name": "stdout",
          "text": [
            "\n",
            "WARNING ⚠️ imgsz=[367, 768] must be multiple of max stride 32, updating to [384, 768]\n",
            "0: 384x768 3 embeddings, 227.5ms\n",
            "Speed: 3.2ms preprocess, 227.5ms inference, 1.5ms postprocess per image at shape (1, 3, 384, 768)\n"
          ]
        },
        {
          "output_type": "stream",
          "name": "stderr",
          "text": [
            "100%|██████████| 3/3 [00:01<00:00,  2.21it/s]\n"
          ]
        },
        {
          "output_type": "stream",
          "name": "stdout",
          "text": [
            "\n",
            "WARNING ⚠️ imgsz=[123, 768] must be multiple of max stride 32, updating to [128, 768]\n",
            "0: 128x768 (no detections), 70.7ms\n",
            "Speed: 1.0ms preprocess, 70.7ms inference, 0.7ms postprocess per image at shape (1, 3, 128, 768)\n"
          ]
        },
        {
          "output_type": "stream",
          "name": "stderr",
          "text": [
            "0it [00:00, ?it/s]\n"
          ]
        },
        {
          "output_type": "stream",
          "name": "stdout",
          "text": [
            "\n",
            "WARNING ⚠️ imgsz=[202, 768] must be multiple of max stride 32, updating to [224, 768]\n",
            "0: 224x768 1 embedding, 112.6ms\n",
            "Speed: 1.4ms preprocess, 112.6ms inference, 1.4ms postprocess per image at shape (1, 3, 224, 768)\n"
          ]
        },
        {
          "output_type": "stream",
          "name": "stderr",
          "text": [
            "100%|██████████| 1/1 [00:00<00:00,  2.07it/s]\n"
          ]
        },
        {
          "output_type": "stream",
          "name": "stdout",
          "text": [
            "\n",
            "WARNING ⚠️ imgsz=[1011, 768] must be multiple of max stride 32, updating to [1024, 768]\n",
            "0: 1024x768 9 embeddings, 678.1ms\n",
            "Speed: 5.1ms preprocess, 678.1ms inference, 1.8ms postprocess per image at shape (1, 3, 1024, 768)\n"
          ]
        },
        {
          "output_type": "stream",
          "name": "stderr",
          "text": [
            "100%|██████████| 9/9 [00:05<00:00,  1.65it/s]\n"
          ]
        },
        {
          "output_type": "stream",
          "name": "stdout",
          "text": [
            "\n",
            "WARNING ⚠️ imgsz=[861, 768] must be multiple of max stride 32, updating to [864, 768]\n",
            "0: 864x768 8 embeddings, 467.1ms\n",
            "Speed: 4.2ms preprocess, 467.1ms inference, 1.6ms postprocess per image at shape (1, 3, 864, 768)\n"
          ]
        },
        {
          "output_type": "stream",
          "name": "stderr",
          "text": [
            "100%|██████████| 8/8 [00:03<00:00,  2.42it/s]\n"
          ]
        },
        {
          "output_type": "stream",
          "name": "stdout",
          "text": [
            "\n",
            "WARNING ⚠️ imgsz=[1020, 768] must be multiple of max stride 32, updating to [1024, 768]\n",
            "0: 1024x768 (no detections), 599.2ms\n",
            "Speed: 5.9ms preprocess, 599.2ms inference, 0.8ms postprocess per image at shape (1, 3, 1024, 768)\n"
          ]
        },
        {
          "output_type": "stream",
          "name": "stderr",
          "text": [
            "0it [00:00, ?it/s]\n"
          ]
        },
        {
          "output_type": "stream",
          "name": "stdout",
          "text": [
            "\n",
            "0: 1024x800 3 plain texts, 2 abandons, 2 figures, 2 figure_captions, 142.7ms\n",
            "Speed: 6.1ms preprocess, 142.7ms inference, 1.1ms postprocess per image at shape (1, 3, 1024, 800)\n",
            "\n",
            "WARNING ⚠️ imgsz=[141, 1728] must be multiple of max stride 32, updating to [160, 1728]\n",
            "0: 160x1728 (no detections), 184.3ms\n",
            "Speed: 2.8ms preprocess, 184.3ms inference, 0.8ms postprocess per image at shape (1, 3, 160, 1728)\n"
          ]
        },
        {
          "output_type": "stream",
          "name": "stderr",
          "text": [
            "0it [00:00, ?it/s]\n"
          ]
        },
        {
          "output_type": "stream",
          "name": "stdout",
          "text": [
            "\n",
            "WARNING ⚠️ imgsz=[138, 1728] must be multiple of max stride 32, updating to [160, 1728]\n",
            "0: 160x1728 2 embeddings, 196.2ms\n",
            "Speed: 2.0ms preprocess, 196.2ms inference, 1.6ms postprocess per image at shape (1, 3, 160, 1728)\n"
          ]
        },
        {
          "output_type": "stream",
          "name": "stderr",
          "text": [
            "100%|██████████| 2/2 [00:00<00:00,  2.09it/s]\n"
          ]
        },
        {
          "output_type": "stream",
          "name": "stdout",
          "text": [
            "\n",
            "WARNING ⚠️ imgsz=[202, 768] must be multiple of max stride 32, updating to [224, 768]\n",
            "0: 224x768 (no detections), 120.3ms\n",
            "Speed: 1.4ms preprocess, 120.3ms inference, 0.7ms postprocess per image at shape (1, 3, 224, 768)\n"
          ]
        },
        {
          "output_type": "stream",
          "name": "stderr",
          "text": [
            "0it [00:00, ?it/s]\n"
          ]
        },
        {
          "output_type": "stream",
          "name": "stdout",
          "text": [
            "\n",
            "WARNING ⚠️ imgsz=[440, 768] must be multiple of max stride 32, updating to [448, 768]\n",
            "0: 448x768 2 embeddings, 236.7ms\n",
            "Speed: 3.7ms preprocess, 236.7ms inference, 1.5ms postprocess per image at shape (1, 3, 448, 768)\n"
          ]
        },
        {
          "output_type": "stream",
          "name": "stderr",
          "text": [
            "100%|██████████| 2/2 [00:01<00:00,  1.34it/s]\n"
          ]
        },
        {
          "output_type": "stream",
          "name": "stdout",
          "text": [
            "\n",
            "WARNING ⚠️ imgsz=[280, 768] must be multiple of max stride 32, updating to [288, 768]\n",
            "0: 288x768 1 embedding, 170.1ms\n",
            "Speed: 1.8ms preprocess, 170.1ms inference, 1.8ms postprocess per image at shape (1, 3, 288, 768)\n"
          ]
        },
        {
          "output_type": "stream",
          "name": "stderr",
          "text": [
            "100%|██████████| 1/1 [00:00<00:00,  1.70it/s]\n"
          ]
        },
        {
          "output_type": "stream",
          "name": "stdout",
          "text": [
            "\n",
            "WARNING ⚠️ imgsz=[1020, 768] must be multiple of max stride 32, updating to [1024, 768]\n",
            "0: 1024x768 (no detections), 940.5ms\n",
            "Speed: 9.2ms preprocess, 940.5ms inference, 1.0ms postprocess per image at shape (1, 3, 1024, 768)\n"
          ]
        },
        {
          "output_type": "stream",
          "name": "stderr",
          "text": [
            "0it [00:00, ?it/s]\n"
          ]
        },
        {
          "output_type": "stream",
          "name": "stdout",
          "text": [
            "\n",
            "0: 1024x800 4 plain texts, 2 abandons, 3 figures, 3 figure_captions, 137.8ms\n",
            "Speed: 7.5ms preprocess, 137.8ms inference, 1.2ms postprocess per image at shape (1, 3, 1024, 800)\n",
            "\n",
            "WARNING ⚠️ imgsz=[124, 768] must be multiple of max stride 32, updating to [128, 768]\n",
            "0: 128x768 1 embedding, 68.4ms\n",
            "Speed: 1.4ms preprocess, 68.4ms inference, 1.5ms postprocess per image at shape (1, 3, 128, 768)\n"
          ]
        },
        {
          "output_type": "stream",
          "name": "stderr",
          "text": [
            "100%|██████████| 1/1 [00:00<00:00,  2.45it/s]\n"
          ]
        },
        {
          "output_type": "stream",
          "name": "stdout",
          "text": [
            "\n",
            "WARNING ⚠️ imgsz=[124, 768] must be multiple of max stride 32, updating to [128, 768]\n",
            "0: 128x768 (no detections), 81.1ms\n",
            "Speed: 2.0ms preprocess, 81.1ms inference, 0.7ms postprocess per image at shape (1, 3, 128, 768)\n"
          ]
        },
        {
          "output_type": "stream",
          "name": "stderr",
          "text": [
            "0it [00:00, ?it/s]\n"
          ]
        },
        {
          "output_type": "stream",
          "name": "stdout",
          "text": [
            "\n",
            "WARNING ⚠️ imgsz=[241, 768] must be multiple of max stride 32, updating to [256, 768]\n",
            "0: 256x768 1 embedding, 222.5ms\n",
            "Speed: 2.4ms preprocess, 222.5ms inference, 1.9ms postprocess per image at shape (1, 3, 256, 768)\n"
          ]
        },
        {
          "output_type": "stream",
          "name": "stderr",
          "text": [
            "100%|██████████| 1/1 [00:00<00:00,  1.21it/s]\n"
          ]
        },
        {
          "output_type": "stream",
          "name": "stdout",
          "text": [
            "\n",
            "WARNING ⚠️ imgsz=[396, 768] must be multiple of max stride 32, updating to [416, 768]\n",
            "0: 416x768 3 embeddings, 284.9ms\n",
            "Speed: 2.4ms preprocess, 284.9ms inference, 1.8ms postprocess per image at shape (1, 3, 416, 768)\n"
          ]
        },
        {
          "output_type": "stream",
          "name": "stderr",
          "text": [
            "100%|██████████| 3/3 [00:01<00:00,  2.17it/s]\n"
          ]
        },
        {
          "output_type": "stream",
          "name": "stdout",
          "text": [
            "\n",
            "WARNING ⚠️ imgsz=[123, 768] must be multiple of max stride 32, updating to [128, 768]\n",
            "0: 128x768 1 embedding, 69.7ms\n",
            "Speed: 1.5ms preprocess, 69.7ms inference, 1.4ms postprocess per image at shape (1, 3, 128, 768)\n"
          ]
        },
        {
          "output_type": "stream",
          "name": "stderr",
          "text": [
            "100%|██████████| 1/1 [00:00<00:00,  2.07it/s]\n"
          ]
        },
        {
          "output_type": "stream",
          "name": "stdout",
          "text": [
            "\n",
            "WARNING ⚠️ imgsz=[437, 768] must be multiple of max stride 32, updating to [448, 768]\n",
            "0: 448x768 1 embedding, 244.5ms\n",
            "Speed: 3.9ms preprocess, 244.5ms inference, 1.6ms postprocess per image at shape (1, 3, 448, 768)\n"
          ]
        },
        {
          "output_type": "stream",
          "name": "stderr",
          "text": [
            "100%|██████████| 1/1 [00:00<00:00,  2.01it/s]\n"
          ]
        },
        {
          "output_type": "stream",
          "name": "stdout",
          "text": [
            "\n",
            "WARNING ⚠️ imgsz=[826, 768] must be multiple of max stride 32, updating to [832, 768]\n",
            "0: 832x768 1 embedding, 457.8ms\n",
            "Speed: 6.4ms preprocess, 457.8ms inference, 1.5ms postprocess per image at shape (1, 3, 832, 768)\n"
          ]
        },
        {
          "output_type": "stream",
          "name": "stderr",
          "text": [
            "100%|██████████| 1/1 [00:00<00:00,  2.37it/s]\n"
          ]
        },
        {
          "output_type": "stream",
          "name": "stdout",
          "text": [
            "\n",
            "WARNING ⚠️ imgsz=[1020, 768] must be multiple of max stride 32, updating to [1024, 768]\n",
            "0: 1024x768 (no detections), 863.8ms\n",
            "Speed: 9.3ms preprocess, 863.8ms inference, 1.1ms postprocess per image at shape (1, 3, 1024, 768)\n"
          ]
        },
        {
          "output_type": "stream",
          "name": "stderr",
          "text": [
            "0it [00:00, ?it/s]\n"
          ]
        },
        {
          "output_type": "stream",
          "name": "stdout",
          "text": [
            "\n",
            "0: 1024x800 5 titles, 19 plain texts, 3 abandons, 1 isolate_formula, 1 formula_caption, 142.8ms\n",
            "Speed: 6.2ms preprocess, 142.8ms inference, 1.3ms postprocess per image at shape (1, 3, 1024, 800)\n",
            "\n",
            "WARNING ⚠️ imgsz=[169, 768] must be multiple of max stride 32, updating to [192, 768]\n",
            "0: 192x768 (no detections), 106.6ms\n",
            "Speed: 1.2ms preprocess, 106.6ms inference, 0.7ms postprocess per image at shape (1, 3, 192, 768)\n"
          ]
        },
        {
          "output_type": "stream",
          "name": "stderr",
          "text": [
            "0it [00:00, ?it/s]\n",
            "100%|██████████| 1/1 [00:00<00:00,  1.81it/s]\n"
          ]
        },
        {
          "output_type": "stream",
          "name": "stdout",
          "text": [
            "\n",
            "WARNING ⚠️ imgsz=[131, 768] must be multiple of max stride 32, updating to [160, 768]\n",
            "0: 160x768 2 embeddings, 92.1ms\n",
            "Speed: 1.6ms preprocess, 92.1ms inference, 1.5ms postprocess per image at shape (1, 3, 160, 768)\n"
          ]
        },
        {
          "output_type": "stream",
          "name": "stderr",
          "text": [
            "100%|██████████| 2/2 [00:00<00:00,  2.74it/s]\n"
          ]
        },
        {
          "output_type": "stream",
          "name": "stdout",
          "text": [
            "\n",
            "WARNING ⚠️ imgsz=[788, 768] must be multiple of max stride 32, updating to [800, 768]\n",
            "0: 800x768 2 embeddings, 683.6ms\n",
            "Speed: 6.3ms preprocess, 683.6ms inference, 1.8ms postprocess per image at shape (1, 3, 800, 768)\n"
          ]
        },
        {
          "output_type": "stream",
          "name": "stderr",
          "text": [
            "100%|██████████| 2/2 [00:01<00:00,  1.28it/s]\n"
          ]
        },
        {
          "output_type": "stream",
          "name": "stdout",
          "text": [
            "\n",
            "WARNING ⚠️ imgsz=[209, 768] must be multiple of max stride 32, updating to [224, 768]\n",
            "0: 224x768 (no detections), 115.3ms\n",
            "Speed: 1.5ms preprocess, 115.3ms inference, 0.7ms postprocess per image at shape (1, 3, 224, 768)\n"
          ]
        },
        {
          "output_type": "stream",
          "name": "stderr",
          "text": [
            "0it [00:00, ?it/s]\n"
          ]
        },
        {
          "output_type": "stream",
          "name": "stdout",
          "text": [
            "\n",
            "0: 128x768 (no detections), 85.6ms\n",
            "Speed: 1.3ms preprocess, 85.6ms inference, 0.7ms postprocess per image at shape (1, 3, 128, 768)\n"
          ]
        },
        {
          "output_type": "stream",
          "name": "stderr",
          "text": [
            "0it [00:00, ?it/s]\n"
          ]
        },
        {
          "output_type": "stream",
          "name": "stdout",
          "text": [
            "\n",
            "0: 128x768 (no detections), 77.3ms\n",
            "Speed: 1.0ms preprocess, 77.3ms inference, 0.7ms postprocess per image at shape (1, 3, 128, 768)\n"
          ]
        },
        {
          "output_type": "stream",
          "name": "stderr",
          "text": [
            "0it [00:00, ?it/s]\n"
          ]
        },
        {
          "output_type": "stream",
          "name": "stdout",
          "text": [
            "\n",
            "WARNING ⚠️ imgsz=[1990, 768] must be multiple of max stride 32, updating to [2016, 768]\n",
            "0: 2016x768 21 embeddings, 1900.4ms\n",
            "Speed: 14.2ms preprocess, 1900.4ms inference, 2.2ms postprocess per image at shape (1, 3, 2016, 768)\n"
          ]
        },
        {
          "output_type": "stream",
          "name": "stderr",
          "text": [
            "100%|██████████| 21/21 [00:08<00:00,  2.46it/s]\n"
          ]
        },
        {
          "output_type": "stream",
          "name": "stdout",
          "text": [
            "\n",
            "WARNING ⚠️ imgsz=[167, 768] must be multiple of max stride 32, updating to [192, 768]\n",
            "0: 192x768 (no detections), 103.2ms\n",
            "Speed: 1.2ms preprocess, 103.2ms inference, 0.7ms postprocess per image at shape (1, 3, 192, 768)\n"
          ]
        },
        {
          "output_type": "stream",
          "name": "stderr",
          "text": [
            "0it [00:00, ?it/s]\n"
          ]
        },
        {
          "output_type": "stream",
          "name": "stdout",
          "text": [
            "\n",
            "WARNING ⚠️ imgsz=[194, 768] must be multiple of max stride 32, updating to [224, 768]\n",
            "0: 224x768 1 embedding, 118.9ms\n",
            "Speed: 1.4ms preprocess, 118.9ms inference, 1.4ms postprocess per image at shape (1, 3, 224, 768)\n"
          ]
        },
        {
          "output_type": "stream",
          "name": "stderr",
          "text": [
            "100%|██████████| 1/1 [00:00<00:00,  2.46it/s]\n"
          ]
        },
        {
          "output_type": "stream",
          "name": "stdout",
          "text": [
            "\n",
            "WARNING ⚠️ imgsz=[155, 768] must be multiple of max stride 32, updating to [160, 768]\n",
            "0: 160x768 (no detections), 91.6ms\n",
            "Speed: 1.7ms preprocess, 91.6ms inference, 0.7ms postprocess per image at shape (1, 3, 160, 768)\n"
          ]
        },
        {
          "output_type": "stream",
          "name": "stderr",
          "text": [
            "0it [00:00, ?it/s]\n"
          ]
        },
        {
          "output_type": "stream",
          "name": "stdout",
          "text": [
            "\n",
            "WARNING ⚠️ imgsz=[230, 768] must be multiple of max stride 32, updating to [256, 768]\n",
            "0: 256x768 5 embeddings, 142.0ms\n",
            "Speed: 1.9ms preprocess, 142.0ms inference, 1.5ms postprocess per image at shape (1, 3, 256, 768)\n"
          ]
        },
        {
          "output_type": "stream",
          "name": "stderr",
          "text": [
            "100%|██████████| 5/5 [00:02<00:00,  2.48it/s]\n"
          ]
        },
        {
          "output_type": "stream",
          "name": "stdout",
          "text": [
            "\n",
            "WARNING ⚠️ imgsz=[194, 768] must be multiple of max stride 32, updating to [224, 768]\n",
            "0: 224x768 3 embeddings, 178.6ms\n",
            "Speed: 2.0ms preprocess, 178.6ms inference, 1.8ms postprocess per image at shape (1, 3, 224, 768)\n"
          ]
        },
        {
          "output_type": "stream",
          "name": "stderr",
          "text": [
            "100%|██████████| 3/3 [00:01<00:00,  1.58it/s]\n"
          ]
        },
        {
          "output_type": "stream",
          "name": "stdout",
          "text": [
            "\n",
            "WARNING ⚠️ imgsz=[195, 768] must be multiple of max stride 32, updating to [224, 768]\n",
            "0: 224x768 2 embeddings, 190.0ms\n",
            "Speed: 2.1ms preprocess, 190.0ms inference, 2.2ms postprocess per image at shape (1, 3, 224, 768)\n"
          ]
        },
        {
          "output_type": "stream",
          "name": "stderr",
          "text": [
            "100%|██████████| 2/2 [00:01<00:00,  1.55it/s]\n"
          ]
        },
        {
          "output_type": "stream",
          "name": "stdout",
          "text": [
            "\n",
            "WARNING ⚠️ imgsz=[193, 768] must be multiple of max stride 32, updating to [224, 768]\n",
            "0: 224x768 2 embeddings, 127.9ms\n",
            "Speed: 1.9ms preprocess, 127.9ms inference, 1.4ms postprocess per image at shape (1, 3, 224, 768)\n"
          ]
        },
        {
          "output_type": "stream",
          "name": "stderr",
          "text": [
            "100%|██████████| 2/2 [00:00<00:00,  2.49it/s]\n"
          ]
        },
        {
          "output_type": "stream",
          "name": "stdout",
          "text": [
            "\n",
            "WARNING ⚠️ imgsz=[156, 768] must be multiple of max stride 32, updating to [160, 768]\n",
            "0: 160x768 1 embedding, 92.2ms\n",
            "Speed: 1.6ms preprocess, 92.2ms inference, 1.5ms postprocess per image at shape (1, 3, 160, 768)\n"
          ]
        },
        {
          "output_type": "stream",
          "name": "stderr",
          "text": [
            "100%|██████████| 1/1 [00:00<00:00,  2.58it/s]\n"
          ]
        },
        {
          "output_type": "stream",
          "name": "stdout",
          "text": [
            "\n",
            "WARNING ⚠️ imgsz=[230, 768] must be multiple of max stride 32, updating to [256, 768]\n",
            "0: 256x768 1 embedding, 143.4ms\n",
            "Speed: 1.6ms preprocess, 143.4ms inference, 1.5ms postprocess per image at shape (1, 3, 256, 768)\n"
          ]
        },
        {
          "output_type": "stream",
          "name": "stderr",
          "text": [
            "100%|██████████| 1/1 [00:00<00:00,  2.45it/s]\n"
          ]
        },
        {
          "output_type": "stream",
          "name": "stdout",
          "text": [
            "\n",
            "WARNING ⚠️ imgsz=[232, 768] must be multiple of max stride 32, updating to [256, 768]\n",
            "0: 256x768 1 embedding, 1 isolated, 141.7ms\n",
            "Speed: 2.1ms preprocess, 141.7ms inference, 1.4ms postprocess per image at shape (1, 3, 256, 768)\n"
          ]
        },
        {
          "output_type": "stream",
          "name": "stderr",
          "text": [
            "100%|██████████| 2/2 [00:01<00:00,  1.51it/s]\n"
          ]
        },
        {
          "output_type": "stream",
          "name": "stdout",
          "text": [
            "\n",
            "WARNING ⚠️ imgsz=[195, 768] must be multiple of max stride 32, updating to [224, 768]\n",
            "0: 224x768 (no detections), 187.8ms\n",
            "Speed: 2.0ms preprocess, 187.8ms inference, 1.1ms postprocess per image at shape (1, 3, 224, 768)\n"
          ]
        },
        {
          "output_type": "stream",
          "name": "stderr",
          "text": [
            "0it [00:00, ?it/s]\n"
          ]
        },
        {
          "output_type": "stream",
          "name": "stdout",
          "text": [
            "\n",
            "WARNING ⚠️ imgsz=[235, 768] must be multiple of max stride 32, updating to [256, 768]\n",
            "0: 256x768 2 embeddings, 248.9ms\n",
            "Speed: 2.3ms preprocess, 248.9ms inference, 2.0ms postprocess per image at shape (1, 3, 256, 768)\n"
          ]
        },
        {
          "output_type": "stream",
          "name": "stderr",
          "text": [
            "100%|██████████| 2/2 [00:01<00:00,  1.47it/s]\n"
          ]
        },
        {
          "output_type": "stream",
          "name": "stdout",
          "text": [
            "\n",
            "WARNING ⚠️ imgsz=[1020, 768] must be multiple of max stride 32, updating to [1024, 768]\n",
            "0: 1024x768 (no detections), 599.2ms\n",
            "Speed: 6.0ms preprocess, 599.2ms inference, 0.8ms postprocess per image at shape (1, 3, 1024, 768)\n"
          ]
        },
        {
          "output_type": "stream",
          "name": "stderr",
          "text": [
            "0it [00:00, ?it/s]\n"
          ]
        },
        {
          "output_type": "stream",
          "name": "stdout",
          "text": [
            "\n",
            "0: 1024x800 8 plain texts, 2 abandons, 142.8ms\n",
            "Speed: 8.1ms preprocess, 142.8ms inference, 1.1ms postprocess per image at shape (1, 3, 1024, 800)\n",
            "\n",
            "WARNING ⚠️ imgsz=[2012, 768] must be multiple of max stride 32, updating to [2016, 768]\n",
            "0: 2016x768 23 embeddings, 1491.5ms\n",
            "Speed: 9.4ms preprocess, 1491.5ms inference, 1.8ms postprocess per image at shape (1, 3, 2016, 768)\n"
          ]
        },
        {
          "output_type": "stream",
          "name": "stderr",
          "text": [
            "100%|██████████| 23/23 [00:11<00:00,  1.97it/s]\n"
          ]
        },
        {
          "output_type": "stream",
          "name": "stdout",
          "text": [
            "\n",
            "WARNING ⚠️ imgsz=[230, 768] must be multiple of max stride 32, updating to [256, 768]\n",
            "0: 256x768 1 embedding, 230.8ms\n",
            "Speed: 4.9ms preprocess, 230.8ms inference, 2.1ms postprocess per image at shape (1, 3, 256, 768)\n"
          ]
        },
        {
          "output_type": "stream",
          "name": "stderr",
          "text": [
            "100%|██████████| 1/1 [00:00<00:00,  1.71it/s]\n"
          ]
        },
        {
          "output_type": "stream",
          "name": "stdout",
          "text": [
            "\n",
            "WARNING ⚠️ imgsz=[232, 768] must be multiple of max stride 32, updating to [256, 768]\n",
            "0: 256x768 1 embedding, 146.0ms\n",
            "Speed: 1.7ms preprocess, 146.0ms inference, 1.5ms postprocess per image at shape (1, 3, 256, 768)\n"
          ]
        },
        {
          "output_type": "stream",
          "name": "stderr",
          "text": [
            "100%|██████████| 1/1 [00:00<00:00,  2.45it/s]\n"
          ]
        },
        {
          "output_type": "stream",
          "name": "stdout",
          "text": [
            "\n",
            "WARNING ⚠️ imgsz=[232, 768] must be multiple of max stride 32, updating to [256, 768]\n",
            "0: 256x768 5 embeddings, 159.1ms\n",
            "Speed: 2.1ms preprocess, 159.1ms inference, 1.5ms postprocess per image at shape (1, 3, 256, 768)\n"
          ]
        },
        {
          "output_type": "stream",
          "name": "stderr",
          "text": [
            "100%|██████████| 5/5 [00:02<00:00,  2.08it/s]\n"
          ]
        },
        {
          "output_type": "stream",
          "name": "stdout",
          "text": [
            "\n",
            "WARNING ⚠️ imgsz=[231, 768] must be multiple of max stride 32, updating to [256, 768]\n",
            "0: 256x768 1 embedding, 148.9ms\n",
            "Speed: 2.1ms preprocess, 148.9ms inference, 1.5ms postprocess per image at shape (1, 3, 256, 768)\n"
          ]
        },
        {
          "output_type": "stream",
          "name": "stderr",
          "text": [
            "100%|██████████| 1/1 [00:00<00:00,  1.66it/s]\n"
          ]
        },
        {
          "output_type": "stream",
          "name": "stdout",
          "text": [
            "\n",
            "WARNING ⚠️ imgsz=[1998, 768] must be multiple of max stride 32, updating to [2016, 768]\n",
            "0: 2016x768 20 embeddings, 1346.2ms\n",
            "Speed: 9.4ms preprocess, 1346.2ms inference, 2.6ms postprocess per image at shape (1, 3, 2016, 768)\n"
          ]
        },
        {
          "output_type": "stream",
          "name": "stderr",
          "text": [
            "100%|██████████| 20/20 [00:10<00:00,  1.89it/s]\n"
          ]
        },
        {
          "output_type": "stream",
          "name": "stdout",
          "text": [
            "\n",
            "WARNING ⚠️ imgsz=[191, 768] must be multiple of max stride 32, updating to [192, 768]\n",
            "0: 192x768 1 embedding, 103.9ms\n",
            "Speed: 1.7ms preprocess, 103.9ms inference, 1.5ms postprocess per image at shape (1, 3, 192, 768)\n"
          ]
        },
        {
          "output_type": "stream",
          "name": "stderr",
          "text": [
            "100%|██████████| 1/1 [00:00<00:00,  2.52it/s]\n"
          ]
        },
        {
          "output_type": "stream",
          "name": "stdout",
          "text": [
            "\n",
            "WARNING ⚠️ imgsz=[1020, 768] must be multiple of max stride 32, updating to [1024, 768]\n",
            "0: 1024x768 (no detections), 618.9ms\n",
            "Speed: 6.2ms preprocess, 618.9ms inference, 0.8ms postprocess per image at shape (1, 3, 1024, 768)\n"
          ]
        },
        {
          "output_type": "stream",
          "name": "stderr",
          "text": [
            "0it [00:00, ?it/s]\n"
          ]
        },
        {
          "output_type": "stream",
          "name": "stdout",
          "text": [
            "\n",
            "0: 1024x800 3 plain texts, 2 abandons, 142.8ms\n",
            "Speed: 6.0ms preprocess, 142.8ms inference, 1.1ms postprocess per image at shape (1, 3, 1024, 800)\n",
            "\n",
            "WARNING ⚠️ imgsz=[205, 768] must be multiple of max stride 32, updating to [224, 768]\n",
            "0: 224x768 2 embeddings, 120.8ms\n",
            "Speed: 1.9ms preprocess, 120.8ms inference, 1.5ms postprocess per image at shape (1, 3, 224, 768)\n"
          ]
        },
        {
          "output_type": "stream",
          "name": "stderr",
          "text": [
            "100%|██████████| 2/2 [00:00<00:00,  2.40it/s]\n"
          ]
        },
        {
          "output_type": "stream",
          "name": "stdout",
          "text": [
            "\n",
            "WARNING ⚠️ imgsz=[164, 768] must be multiple of max stride 32, updating to [192, 768]\n",
            "0: 192x768 (no detections), 103.7ms\n",
            "Speed: 1.7ms preprocess, 103.7ms inference, 0.7ms postprocess per image at shape (1, 3, 192, 768)\n"
          ]
        },
        {
          "output_type": "stream",
          "name": "stderr",
          "text": [
            "0it [00:00, ?it/s]\n"
          ]
        },
        {
          "output_type": "stream",
          "name": "stdout",
          "text": [
            "\n",
            "WARNING ⚠️ imgsz=[283, 768] must be multiple of max stride 32, updating to [288, 768]\n",
            "0: 288x768 (no detections), 253.0ms\n",
            "Speed: 2.4ms preprocess, 253.0ms inference, 1.0ms postprocess per image at shape (1, 3, 288, 768)\n"
          ]
        },
        {
          "output_type": "stream",
          "name": "stderr",
          "text": [
            "0it [00:00, ?it/s]\n"
          ]
        },
        {
          "output_type": "stream",
          "name": "stdout",
          "text": [
            "\n",
            "WARNING ⚠️ imgsz=[1020, 768] must be multiple of max stride 32, updating to [1024, 768]\n",
            "0: 1024x768 (no detections), 601.5ms\n",
            "Speed: 6.1ms preprocess, 601.5ms inference, 0.7ms postprocess per image at shape (1, 3, 1024, 768)\n"
          ]
        },
        {
          "output_type": "stream",
          "name": "stderr",
          "text": [
            "0it [00:00, ?it/s]\n"
          ]
        },
        {
          "output_type": "execute_result",
          "data": {
            "text/plain": [
              "'## Remarkable enhancement of thermal conductivity induced by coordination transition in SiO, thin films\\n\\nKey Laboratory for Micro/Nano Technology and System of Liaoning Province, Dalian University of Technology, Dalian 116024, China Sschool of Control Science and Engineering, Dalian University of Technology, Dalian 116024, China\\n\\nZhengxing $\\\\mathsf{y}^{2, \\\\star}$ SCTnsegpng Dorn $\\\\mathrm{X u}^{1}$ , Hanbin Wang\\', Zhipeng Zhao Mingyang Kong Zhichun Liu\\', Haigang\\n,*iD\\n\\n## ABSTRACT\\n\\n$$\\n\\\\mathrm{R e c e i v e d :} \\\\ 1 9 \\\\mathrm{~ J u l y ~} 2 0 2 4\\n$$\\nAccepted: 27 October 2024\\n\\nThe heat transfer in SiO, is mainly dominated by phonons, but the void defects and boundary effects in the films cause strong scattering of phonons, resulting in a low thermal conductivity. HHerein, we report the SiO, thin films with prominently enhanced thermal conductivity after high-temperature annealing. Through combined experiments and non-equilibrium molecular dynamics simulation, we reveal the improvement of thermal conductivity that is originally attributed to coordination transition during the high-temperature annealing. Analysis indicates that a more ordered atom structure and denser grain boundaries could derive from the coordination transition, resulting in the crystallization of grains and defect mending. These behaviors induce a reduction of phonons scattering and increase in mean free path, which lead to nearly twofold enhance in the thermal conductity to 2.66 $\\\\mathrm{W m^{-1} ~ K^{-1}}$ \\n\\nThe Author(s), under\\nexclusive licence to Springer Science+Business Media, LLC, part of Springer Nature, 2024 ## GRAPHICAL ABSTRACT\\n\\n![](figures/1-1-FIGURE.jpg)\\n\\nwith temperature through the molecular dynamic simulation combined with machine learning potential [9]. In addition, Li and his coworkers studied the effect of strain on the thermal conductivity of SiO, thin films [10]. They found that the thermal conductivity decreased with the applied strain increased. Then, Gu et al. $[ 1 1 ]$ and Li et al. [12] revealed that strain affects the bond length between atoms and the vibration frequency of phonons through molecular dynamics simulations. Other more, Ha and his colleagues found that mesoporous SiO, thin films with highly ordered arrangement exhibited enhanced thermal stability at high temperatures $[ 1 ]$ . Zhu and his colleagues used non-equilibrium molecular dynamics (NEMD) to investigate the impacts $\\\\mathrm{o f}$ size effect and defect induction on the thermal conductivity of amorphous SiO, thin films [7]. Although these studies have provided positive implications and the design in practical applications for the thermal conductivity of SiO, thin films, they have not proposed an effective method to improve the thermal conductivity.\\n\\n## Introducion\\n\\nSilicon dioxide (SiO,) is recognized as one of the most practical materials for new generations of micro-device due to their unique advantages in terms of electronic properties, thermal stability and insulation [1-4]. In micro-device, the sharply increased power density will generate plenty of heat, which will affect the performance of the device, so it is necessary to use materials with good thermal conductivity to dissipate heat [5, 6]. However, the low thermal conductivity of SiO, thin films caused by complex heat transport process will limit the further development of micro-device toward miniaturization [7]. Thus, improving the thermal conductivity of SiO, thin film becomes particularly important.\\n\\nRegarding on the thermal properties of SiO, thin films, the influence factors for thermal conductivity have been done in terms of experiments and simulations. For the relationship between thermal conductivity and temperature, Cahill et al. measured the thermal conductivity of $\\\\mathrm{S i O_{2}}$ thin films at the different low-temperature ranges [8]. Their results indicate that the thermal conductivity increases with the temperature. Moreover, Liang and his colleagues revealed that temperature affects the phonon excitation in SiO, thin films and causes thermal conductivity to vary\\n\\nIn recent years, some scholars proposed a method to improve the thermal conductivity of thin film materials through thermal annealing. For example, Renteria et al. increased the thermal conductivity of graphene oxide films by 20-fold at room temperature through annealing at high temperature [13]. They revealed\\n\\n![](figures/2-0-FIGURE.jpg)\\n\\nthat the huge increase in the thermal conductivity is due to restoration of bonds, decreased phonon scattering and increase in the grains. Giri and his colleagues obtained the increase thermal conductivity of $\\\\mathrm{T i O_{2}}$ - and ZnO-based superlattices thin films by high-temperature annealing treatment, and they attribute to an increase in crystallinity [14]. Moreover, Ktihnel et al. [15] and Aller et al. [16] achieved the thermal conductivity improvement of Al,Os thin films through thermal annealing, respectively. They all observed recrystallization and growth of grains. From the above research, it can be found that annealing is a positive way to improve the thermal performance of thin filmns by affecting their intrinsic properties.\\n\\nimprove the thermal conductivity of SiO, thin films which may also provide a potential way for heat dissipation in micro-device.\\n\\n## Materials and methods\\n\\n## of SiO, thin film\\n\\n $\\\\mathrm{S i O}_{2}$ thin films were prepared on the clean substrate (pure silicon wafer) by $\\\\mathrm{R F}$ magnetron sputtering. High purity of Si disk was chosen as the target. $\\\\mathrm{A r / O_{2}}$ ambient (flow rate of $\\\\mathrm{A r / O_{2}=1 4 : 3 )}$ was established in the sputtering chamber, and the target-substrate distance was $6 5$ mm. The $\\\\mathrm{R F}$ power was 300 $\\\\mathbf{W}$ under a working pressure of 0.6 Pa. During the experiment, argon atoms bombard the $\\\\mathrm{S i}$ target, detaching the Si atoms from the target and then react with $\\\\mathrm{O_{2}}$ to generate SiO, deposits on the substrate. After that, the prepared SiO, thin films were placed in Muffle furnace (TCXQ-1700, Tong Ke, China) with heating rate of $5$ °C/min, the thin films were heated to 1300 $\\\\mathrm{^{\\\\circ} C}$ for holding 2 h, and then cooled with the furnace.\\n\\nIn this study, we aim at investigating the effect of annealing on the thermal conductivity of SiO, thin films. We prepared SiO, thin films by $\\\\mathrm{R F}$ magnetron sputtering and measured their thermal conductivity using transient thermoreflectance technique. The effect of annealing at different high temperatures on SiO, thin films is pointed out to obtain the optimum annealing temperature at 1300 $\\\\mathrm{^{\\\\circ} C}$ . Under this condition, grains crystallize and grow obviously, which reduces the scattering effect and increases the mean free path of phonons. In addition, the high-temperature annealing process was simulated using NEMD, we reveal the mechanism of grain growth and its impact on thermal conductivity. The high-temperature annealing process changes the coordination of the atoms in the as-depos-ited thin films and makes the defective coordination atoms gradually transit to the perfect coordination type, which leads to the growth and crystallization of grains. As a consequence, after annealing at 1300 ${}^{\\\\circ} \\\\mathrm{C},$ the thermal conductivity increased from 0.94 to 2.66 $\\\\mathrm{W m^{-1} ~ K^{-1}}$ . This work provides an effective method to\\n\\n## Test method for thermal conductivity\\n\\nIn order to study the effect of annealing on the thermal conductivity of SiO, thin films, the thermal conductivity of the thin films as-deposited and after annealing was measured by the transient thermoreflectance technique $[ 1 7, 1 8 ]$ . The system is shown in Fig. 1a. The heating laser illuminates the surface layer and diffuses heat into the thin film layer. Subsequently, the surface temperature decreases over time. Since the reflectance of the surface metal is temperature sensitive\\n\\nFigure 1 a The transin thermal reflectance experimental delay curve\\n\\n $z$ direction, the first layer and the $\\\\mathrm{N}+1$ layer were set as heat source and heat sink, respectively. By injecting energy into the heat source and deriving the same energy from the heat sink, the energy in the whole model system can be kept in dynamic balance. Because of the heat difference in the heat source and the heat sink, heat flow $\\\\mathit{J}$ will be generated, and then, the temperature gradient will be obtained. The thermal conductivity $k$ can be obtained by calculating Eas. (1) and (2). Both $x$ and $y$ are the length of one unit model, the cross-sectional area $A$ of the model is 21.4 x 21.4 nm?. The thickness of the film is characterized by changing the length of the $z$ direction.\\n\\nand approximately proportional to temperature over ized temperature distribution can be obtained from the normalized reflected light intensity. In addition, reflected detection light from the heated metal surface is directed to a fast photodetector, whose signal is collected and averaged by an oscilloscope. Figure 1b shows the normalized temperature curve fitting condition, which indicates the accuracy of the measurement.\\n\\n## NEMD simulation\\n\\nIn order to accurately simulate the initial state of magnetron sputtering SiO, thin films, glassy silica model provided by Materials Studio (MS) was adopted in this paper [19]. Figure 2 shows its basic unit. The thermal conductivity of SiO, thin films was calculated by using NEMD method on the large-scale atomic/molecular massively parallel simulator (LAMMPS). The principle of NEMD is shown in Fig. 3. In the simulation process, the whole model was divided into 2N layers along the\\n\\nIn recent years, reactive force field (ReaxFF) potential function developed by Duin et al. has been widely applied in various fields [20, 211. It bridges the gap between quantum mechanics and traditional molecular dynamics and can realize molecular dynamics simulation of large-scale reactive chemistry. In this work, Si/O reaction force fields describe the interatomic interactions in the model [22, 23].\\n\\n$$\\nJ=\\\\frac{\\\\Delta E} {2 A \\\\Delta t}\\n$$\\n\\n![](figures/3-6-FIGURE.jpg)\\n\\n$$\\nk=-\\\\frac{J} {\\\\partial T / \\\\partial Z}=-\\\\frac{\\\\Delta E} {2 A \\\\Delta t ( \\\\partial T / \\\\partial Z )}\\n$$\\n\\n $\\\\Delta E / \\\\Delta t$ is the energy of perturbation applied to the system per unit time; $A$ is the cross-sectional area of the model; and oT /0z is the temperature gradient in the $z$ direction of the model; because of the symmetry of heat conduction, we divide $k$ by 2 when we calculate the thermal conductivity.\\n\\nDuring the simulation, the high-temperature annealing process of the SiO, model was first implemented. The time step was 0.5 fs, and the velocity integral algorithm was used to initialize the temperature of the system 300 $\\\\mathrm{K}$ . The initial velocity of the system particles was set as Gaussian distribution. In the\\n\\nige 2 he ini nodlb aria Sudio\\n\\nFigure 3 Heat conduction model for SiO, thin films simulated.\\n\\n![](figures/3-12-FIGURE.jpg)\\n\\n(1)\\n\\n(2) process, temperature was rise to 1600 $\\\\mathrm{K}$ within 25 ps under NPT ensemble, and heat preservation at 1600 K under NPT ensemble was 100 ps. After that, the cooling was reduced to 300 $\\\\mathrm{K}$ in the $\\\\mathrm{N P T}$ ensemble at a cooling rate of 1 K/ps. The interatomic radial distribution function (RDF) in the model was also output during the cooling process. Finally, the model was relaxed $1 0 0$ ps at 300 $\\\\mathrm{K}$ of NPT ensemble. After obtaining the $\\\\mathrm{S i O}_{2}$ model as-deposited and after heat treatment, we carried out the thermal conductivity simulation calculation. The initial system temperature was 300 $\\\\mathrm{K},$ and the time step was $0. 1$ fs. Considering the initial stable state of the model, the energy was minimized first, and then, $1 \\\\times1 0^{6}$ steps were run under the NVT ensemble to make the system reach the thermodynamic equilibrium state. Then, the energy perturbation of $1$ eV/ps was applied to the system, and $2 \\\\times1 0^{6}$ steps were run under the NVE ensemble.\\n\\n## Results and discussion\\n\\nFigure 4 shows the analysis of as-deposited and after different annealing temperatures thin films by X-ray diffractometer (XRD). In Fig. $4,$ the as-deposited SiO2 thin film has a complete amorphous structure, and only the sample annealed at 1300 $\\\\mathrm{^{o} C}$ shows obvious spike peaks between 21 $4^{\\\\circ}$ and 22.5*, which indicating that the thin film has a fixed crystal orientation. By comparing with the standard diffraction card, the\\n\\n![](figures/4-3-FIGURE.jpg)\\n\\nFigure 4 XRD results of SiO, thin films as-deposited and annealed at different temperatures.\\n\\ndiffraction peak is determined to be the diffraction peak of cristobalite. Therefore, it can be shown that crystallization occurs in SiO, thin film during annealing at 1300 $\\\\mathrm{{^\\\\circ C}}$ .\\n\\nFigure $5$ shows the surface morphology of as-deposited $\\\\mathrm{S i O_{2}}$ thin films and after 1300 $\\\\mathrm{{^\\\\circ C}}$ high-tem-perature annealing, which measured by scanming electron microscope (SEM) and atomic force microscope (AFM). In Fig. 5a, there are obvious void defects on the surface of $\\\\mathrm{S i O}_{2}$ thin films in the initial as-deposited state. The presence of void defects can significantly enhance phonon scattering, resulting in low thermal conductivity of the films $[ 7, 2 4 ]$ . While the void defects are filled after 1300 $\\\\mathrm{^{\\\\circ} C}$ high-temperature annealing, and small particle protrusions appear on the surface of the thin films in Fig. 5c. This indicates that high-temperature annealing treatment has a defect repair effect on the thin film. With the void defects decrease, the internal grain boundaries of the thin film become denser. Furthermore, the surface of the as-deposited $\\\\mathrm{S i O}_{2}$ thin film is smooth and the surface roughness $\\\\mathrm{R a}=2 7 5$ nm in Fig. 5b. But after 1300 \"C high-temper-ature annealing, many tip protrusions appear on the surface $\\\\mathrm{o f}$ the thin film, and the surface roughness increases in 362 nm in Fig. 5d. This phenomenon is related to the grain growth caused by high-tempera-ture annealing [25]. In the annealing process, crystallization occurs inside the thin film and leads to the increase in grain size and roughness of the thin film.\\n\\nFigure 6a and b shows the temperature gradient in the system along the thickness direction (z axis) of the $\\\\mathrm{S i O_{2}}$ model as-deposited and after 1300 ${}^{\\\\circ} \\\\mathbf{C}$ annealing. The linear temperature distribution along the $z$ axis indicates that stable heat conduction is formed after the system equilibrium. The thermal conductivity of the model can be obtained by fitting the temperature gradient as-deposited and after annealing. Figure 6c shows the radial distribution function (RDF) curve of SiO, thin film output of as-deposited, after annealing and the state at 1600 $\\\\mathrm{K}$ . RDF curves are commonly used to characterize the order $\\\\mathrm{o f}$ microstructures at short, medium and long ranges, the first peak representing the average distance from the central atom [22, $2 6 ]$ . In Fig. 6c, the first peak $\\\\mathrm{o f}$ the RDF curves continued to rise during the cooling process, indicating that the bonding probability between adjacent atoms in the system increased perpetually, and the atomic arrangement showed stronger orderliness. In addition, the peak value for the state at 1600 $\\\\mathrm{K}$ is significantly lower than the initial as-deposited. However, Figure 5 Surface topography of SiO, thin films as-deposited and after 1300 \"C annealing. a, b as-deposited and c, d annealing at 1300 °C.\\n\\n![](figures/5-1-FIGURE.jpg)\\n\\nFigure 6 Temperaure distribution of $\\\\mathrm{S i O}_{2}$ thin films a as-deposited and b after annealing: c the RDF curve of as-deposited, after annealing and the state at 1600 $\\\\mathrm{K}$ .\\n\\n![](figures/5-3-FIGURE.jpg)\\n\\nthe peak value apparently increased after complete annealing. These indicate that the crystallization and grain growth mainly occur during the cooling process of annealing\\n\\nfunctions [7]. By comparing the thermal conductivity of $\\\\mathrm{S i O}_{2}$ model as-deposited and after annealing, it can be seen the thermal conductivity of SiO, thin films increase 66.8% after 1300 C annealing in Fig. 8. In experimental test, we measured 14 sample points of SiO, thin films as-deposited and after 1300 $\\\\mathrm{{^\\\\circ C}}$ high-temperature annealing, and the average thermal conductivity results also confirmed the improvement of thermal conductivity after high-temperature annealing. According to the results, it is found that\\n\\nThe MD thermal conductivity results of as-depos-ited SiO, thin films are shown in Fig. 7. As we can see, the thermal conductivity simulated in this paper is similar to the most references $[ 1 9, \\\\, 2 7, \\\\, 3 2-3 6 ].$ Meanwhile, there are some differences in the results which may be related to the use of different potential\\n\\n![](figures/6-0-FIGURE.jpg)\\n\\nFigure $\\\\mathbf{7}$ MD results of thermal conductivity of as-deposited SiO,thin films.\\n\\n![](figures/6-2-FIGURE.jpg)\\n\\nFigure 8 Simulated and experimental results of thermal conductivity of SiO, thin films as-deposited and after 1300 C annealing.\\n\\nthe thermal conductivity of $\\\\mathrm{S i O}_{2}$ thin films increases 183% after 1300 Chigh-temperature annealing. Therefore, high-temperature annealing has a very obvious effect on improving the thermal conductivity of SiO, thin films.\\n\\nAccording to the average truncation radius, OVITO software observed the changes of the number of atoms of different average coordination number types in the SiO2 model during the 1300 $\\\\mathrm{^{o} C}$ annealing process, as shown in $\\\\mathrm{F i g}$ . 9. We found that in addition to the saturated perfect coordination types of Si-4 and $\\\\mathrm{O-2,}$ there were also unsaturated defect coordination types of Si-3, Si-2, Si-1, Si-0 and O-1, O-0 in the thin film [28]. The unsaturated bonds\\n\\n![](figures/6-6-FIGURE.jpg)\\n\\nFigure 9 The number of atoms with different coordination types during 1300 $\\\\mathrm{^{o} C}$ annealing.\\n\\nwere produced by the insufficient number of atoms in the film deposited process, and these bonds were responsible for the formation of some defects in the thin films [29]. Meanwhile, the number of unsaturated coordination atoms decreased gradually with the decrease in temperature in the annealing process, and the number of atoms of Si-4 and O-2 as the perfect coordination type was increasing. During the 1300 $\\\\mathrm{{^\\\\circ C}}$ annealing, the number of Si-4 and O-2 atoms increases by 458% and 130%, respectively.\\n\\nThe coordination number is related to the crystal structure or cell type and determines how tightly the atoms are packed. In the annealing process, with the decrease in the number of unsaturated coordination type atoms, the atomic arrangement gradually tends to be ordered, and crystallization occurs in the thin film, which leads to the growth of grains and densification of grain boundaries. Therefore, the surface void defects are reduced, and the roughness is increased. In addition, according to the relationship between thermal conductivity and mean free path $\\\\mathrm{o f}$ phonons (Eq. (3)), the thermal conductivity of the thin film increases proportionally with the length of the mean free path [30, 31]. Based on the observed phenomena above, the transition of coordination types during high-temperature annealing makes the atomic arrangement more orderly, leading to a denser grain boundary and a decrease in grain boundary scattering. In addition, it also leads to the crystallization and growth of grains, promoting an increase in the average free path of phonons. The above jointly promote the improvement of the thermal conductivity of the thin film.\\n\\n$$\\nk=\\\\frac{1} {3} c \\\\mu l \\\\tag{3}\\n$$\\n\\nc is the heat capacity of phonons, $\\\\mu{}$ is the velocity of phonons and $\\\\l$ is the mean free path of phonons.\\n\\n## Conclusion\\n\\nWe investigated the mechanism of high-temperature annealing on thermal conductivity of SiO, thin films by experiments combined with molecular dynamics. The thermal conductivity increased nearly twofold through 1300 ${}^{\\\\circ} \\\\mathrm{C}$ annealing. Such phenomenon was associated with the grains grew and crystallized, and the surface voids were filled after high-temperature annealing, which making the thin films denser. Furthermore, non-equilibrium molecular dynamics simulation indicates the transition for unsaturated defect coordination (Si-x, $\\\\mathrm{O-y )}$ to fully coordinated (Si-4, O-2). This promotes the generation of long-range ordered structures, leading to a denser grain boundary and crystallization, which weaken the phonon grain boundary scattering and increase the mean free path of phonons. These cause an increase in the thermal conductivity of the thin film together. This study provides a theoretical reference for improving the heat dissipation performance of SiO, thin films in micro-device.\\n\\n## Funding\\n\\nThis research is financially supported by the Avia tion Science Fund (Nos. 20230012063001 and 2019ZD063001) and Science and Technology Program of Liaoning Province (No. 2023J11/10400044)\\n\\n## Declarations\\n\\nConflict of interest The authors declare that they have no conflict of interest.\\n\\n## References\\n\\n[1] Ha T-J, Park H-H, Jang HW, Yoon S-J, Shin S, Cho HH(2012) Study on the thermal stability of ordered\\n\\nmesoporous SiO, film for thermal insulating film. Micropo-\\nrous Mesoporous Mater 158:123-128. https://doi.org/10.\\n101 $6 / j$ .micromeso.2012.03.028\\n[2] Thomas SR, Pattanasattayavong $\\\\mathtt{P}$ , Anthopoulos TD (2013)\\nSolution-processable metal oxide semiconductors for thin-\\nfilm transistor applications. Chem Soc Rev 42:6910-6923.\\nhttps://doi.org/10.1039/c3cs35402d\\n[3] Walcarius A (2018) Silica-based electrochemical sensors\\nand biosensors: recent trends. Curr Opin Electrochem\\n10:88-97. https://doi.org/10.1016/j.coelec.2018.03.017 [4] Palumbo $\\\\mathrm{F}$ , Wen $\\\\mathrm{C},$ Lombardo $\\\\mathrm{S}$ , Pazos $\\\\mathrm{S}$ , Aguirre $\\\\mathrm{F}$ et al\\n(2020) A review on dielectric breakdown in thin dielec-\\ntrics: silicon dioxide, High-k, and layered dielectrics. Adv\\nFunct Mater 30:1900657. https://doi.org/10.1002/adfm.\\n201900657\\n[5] Wen $\\\\mathrm{Y}$ . Chen $\\\\mathtt{C}$ . Ye $\\\\mathrm{Y}$ et al (2022) Advances on thermally\\nconductive epoxy-based composites as electronic packag-\\ning underill materials-a review. Adv Mater 34:2201023.\\nhttps://doi.org/10.1002/adma.202201023\\n[6] Qin $\\\\mathrm{Y}$ . Albano $\\\\mathbf{B}$ , Spencer J et al (2023) Thermal manage-\\nment and packaging of wide and ultra-wide bandgap power\\ndevices: a review and perspective. J Phys $\\\\mathrm{D}$ : Appl Phys\\n56:093001. https://doi.org/10.1088/1361-6463/acb4ff\\n[7] Zhu $\\\\mathbf{W}$ , Zheng G, Cao $\\\\mathrm{S}$ , He H (2018) Thermal conduc-\\ntivity of amorphous SiO, thin film: a molecular dynam-\\nics study. Sci Rep 8:10537. https://doi.org/10.1038/\\ns41598-018-28925-6\\n[8] Cahill DG (1990) Thermal conductivity measurement from\\n30 to 750 K: the 3o method. Rev Sci Instrum 61:802-808.\\nhttps://doi.org/10.1063/1.1141498\\n[9] Liang $\\\\mathrm{T}$ , Ying $\\\\mathtt{P}$ , Xu $\\\\mathrm{K}$ et al (2023) Mechanisms of tem-\\nperature-dependent thermal transport in amorphous silica\\nfrom machine-learning molecular dynamics. Phys Rev\\nB 108:184203. https://doi.org/10.1103/PhysRevB.108.\\n184203\\n[10] Li $\\\\mathsf{Z}$ . Wang H, Zhao H, Gu H, Wang J, We X (2020) Effects\\nof strain on thermal conductivity of silicon dioxide thin\\nfilms using test method based on 3-o technique and uni-\\naxial strain setup. Rev Sci Instrum 91:084901. https://doi.\\norg/10.1063/5.0014083\\n[11] Gu H, Wang H (2018) Effect of strain on thermal conduc-\\ntivity of amorphous silicon dioxide thin films: a molecular\\ndynamics study. Comput Mater Sci 144:133-138. https://\\ndoi.org/10.1016/j.commatsci.2017.12.016\\n[12] Li $\\\\mathrm{Z}$ Wang H, Zhao H, Wang J, Wei $\\\\mathrm{X}$ , Gu H (2022) Effect\\nof regulating compressive strains on thermal transport of\\nsilicon-based amorphous silica thin films and interfacial\\nthermal resistance. Vacuum 195:110676. https://doi.org/\\n10.1016/j.vacuum.2021.110676\\n\\nmesoporous SiO, film for thermal insulating film. Micropo-rous Mesoporous Mater 158:123-128. https://doi.org/10 1016/j.micromeso.2012.03.028\\n\\n[2] Thomas SR, Pattanasattayavong $\\\\mathbf{P}$ , Anthopoulos TD (2013 Solution-processable metal oxide semiconductors for thin-film transistor applications. Chem Soc Rev 42:6910-6923 https://doi.org/10.1039/c3cs35402d\\n\\n[3] Walcarius A (2018) Silica-based electrochemical sensors and biosensors: recent trends. Curr Opin Electrochem 10:88-97. https://doi.org/10.1016/j.coelec.2018.03.017\\n\\n[4] Palumbo $\\\\mathrm{F}$  ${\\\\bf C},$ Lombardo $\\\\mathrm{S}$ , Pazos $\\\\mathrm{S}$ , Aguirre $\\\\mathrm{F}$ et al\\n,Wen\\n(2020) A review on dielectric breakdown in thin dielectrics: silicon dioxide, High-k, and layered dielectrics. Adv Funct Mater 30:1900657. https://doi.org/10.1002/adfm. 201900657\\n\\n[5] Wen $\\\\mathrm{Y}$ , Chen $\\\\mathrm{C}$ , Ye $\\\\mathrm{Y}$ et al (2022) Advances on thermally conductive epoxy-based composites as electronic packaging underfill materials-a review. Adv Mater 34:2201023. https://doi.org/10.1002/adma.202201023\\n\\n[6] Qin $\\\\Upsilon,$ Albano B, Spencer $\\\\bf{J}$ et al (2023) Thermal manage ment and packaging of wide and ultra-wide bandgap power devices: a review and perspective. J Phys D: Appl Phys 56:093001. https://doi.org/10.1088/1361-6463/acb4ff\\n\\n[7] Zhu W, Zheng $\\\\mathrm{G}$ , Cao $\\\\mathrm{S}$ , He H (2018) Thermal conductivity of amorphous SiO, thin film: a molecular dynam ics study. Sci Rep 8:10537. https://doi.org/10.1038/ s41598-018-28925-6\\n\\n[8] Cahill DG (1990) Thermal conductivity measurement from 30 to 750 $\\\\mathbf{K}$ : the 3o method. Rev Sci Instrum 61:802--808. https://doi.org/10.1063/1.1141498\\n\\n[9] Liang T, Ying P, Xu $\\\\mathrm{K}$ et al (2023) Mechanisms of temperature-dependent thermal transport in amorphous silica from machine-learning molecular dynamics. Phys Rev B 108:184203. https://doi.org/10.1103/PhysRevB.108 184203\\n\\n[10] Li $\\\\mathrm{Z},$ Wang H, Zhao H, Gu H, Wang J, We X (2020) Effects of strain on thermal conductivity of silicon dioxide thin films using test method based on 3-o technique and uniaxial strain setup. Rev Sci Instrum 91:084901. https://doi\\n$$\\n\\\\mathrm{o r g} / 1 0. 1 0 6 3 / 5. 0 0 1 4 0 8 3\\n$$\\n\\n[11] Gu H, Wang H (2018) Effect of strain on thermal conduc tivity of amorphous silicon dioxide thin films: a molecular dynamics study. Comput Mater Sci 144:133-138. https:// doi.org/10.1016/j.commatsci.2017.12.016\\n\\n[12] Li $\\\\mathbf{Z}$ , Wang H, Zhao H, Wang J, Wei $\\\\mathrm{X}$ , Gu H (2022) Effect of regulating compressive strains on thermal transport of silicon-based amorphous silica thin films and interfacial thermal resistance. Vacuum 195:110676. https://doi.org 10.1016/j.vacuum.2021.110676\\n\\n[13] Renteria JD, Ramirez S, Malekpour H et al (2015) Strongly\\nanisotropic thermal conductivity of free-standing reduced\\ngraphene oxide films annealed at high temperature. Adv\\nFunct Mater 25:4664-4672. https://doi.org/10.1002/adfm.\\n201501429\\n[14] Giri $\\\\mathrm{A}$ , Niemela JP, Szwejkowski CJ, Karppinen M, Hop-\\nkins PE (2016) Reduction in thermal conductivity and\\ntunable heat capacity of inorganic/organic hybrid super-\\nlattices. Phys Rev B 93:024201. https://doi.org/10.1103/\\nPhysRevB.93.024201\\n[15] Kiihnel $\\\\mathrm{F}$ , Metzke $\\\\mathtt{C}$ , Weber J, Schitz $\\\\bf{J}$ , Duesberg GS,\\nBenstetter G (2022) Investigation of heater structures for\\nthermal conductivity measurements of $\\\\mathrm{S i O}_{2}$ and $\\\\mathrm{A l_{2} O_{3}}$ thin\\nfilms using the 3-Omega method. Nanomaterials 12:1928.\\nhttps://doi.org/10.3390/nano12111928\\n[16] Aller HT, McGaughey AJH, Malen JA (2023) Reduced\\nthermal resistance of amorphous $\\\\mathrm{A l_{2} O_{3}}$ thin films on β\\n $- \\\\mathrm{G a_{2} O_{3}}$ and amorphous SiO, substrates via rapid thermal\\nannealing. Appl Phys Lett 123:132202. https://doi.org/10.\\n1063/5.0165954\\n[17] Liu J, Zhu J, Tian M, Gu $\\\\mathrm{X}$ , Schmidt $\\\\mathrm{A}$ , Yang R (2013)\\nSimultaneous measurement of thermal conductivity and\\nheat capacity of bulk and thin film materials using fre-\\nquency-dependent transient thermoreflectance method. Rev\\nSci Instrum 84:034902. https://doi.org/10.1063/1.4797479 [18] Rahman $\\\\mathbf{M}$ , Shahzadeh $\\\\mathbf{M}$ , Braeuninger-Weimer $\\\\mathtt{P}$ , Hof-\\nmann $\\\\mathrm{S}$ ,Hellwig $\\\\mathrm{O}$ ,Pisana $\\\\mathrm{S}$ (2018) Measuring the\\nthermal properties of anisotropic materials using beam-\\noffset frequency domain thermoreflectance. J Appl Phys\\n123:245110. https://doi.org/10.1063/1.5033966\\n[19] Huang $\\\\mathsf{Z}$ , Tang $\\\\mathsf{Z}$ , Yu J, Bai $\\\\mathrm{S}$ (2009) Thermal conductiv-\\nity of amorphous and crystalline thin films by molecular\\ndynamics simulation. Physica B 404:1790-1793. https://\\ndoi.org/10.1016/j.physb.2009.02.022\\n[20] Van Duin ACT, Baas JMA, Van De Graaf B (1994) Delft\\nmolecular mechanics: a new approach to hydrocarbon force\\nfields. Inclusion of a geometry-dependent charge calcula-\\ntion. Faraday Trans 90:2881-2895. https://doi.org/10.1039/\\nft9949002881\\n[21] Van Duin ACT, Strachan $\\\\mathrm{A}$ , Stewman S, Zhang $\\\\mathsf{Q}$ , Xu $\\\\mathrm{X}$ \\ncon and silicon oxide systems. J Phys Chem A 107:3803-\\n3811. https://doi.org/10.1021/jp0276303\\n[22] Fogarty $\\\\mathrm{J C}$ , Aktulga HM, Grama AY, Van Duin ACT, Pan-\\ndit SA (2010) A reactive molecular dynamics simulation of\\nthe silica-water interface. J Chem Phys 132:174704. https://\\ndoi.org/10.1063/1.3407433\\n[23] Yeo BC, Jung H, Lee HW et al (2017) Atomistic simula-\\ntion protocol for improved design of Si-O-C hybrid nano-\\nstructures as Li-Ion Battery Anodes: ReaxFF reactive force\\n\\n[13] Renteria JD, Ramirez $\\\\mathrm{S}$ , Malekpour H et al (2015) Strongly anisotropic thermal conductivity of free-standing reduced graphene oxide films annealed at high temperature. Adv Funct Mater 25:4664 -4672. https://doi.org/10.1002/adfm. 201501429\\n\\n[14] Giri A, Niemela JP, Szwejkowski CJ, Karppinen M., Hop-kins PE (2016) Reduction in thermal conductivity and tunable heat capacity of inorganic/organic hybrid super-lattices. Phys Rev $\\\\mathbf{B}$ 93:024201. https://doi.org/10.1103/ PhysRevB.93.024201\\n\\n[15] Kithnel $\\\\mathrm{F}$ , Metzke $\\\\mathrm{C}$ , Weber J, Schitz $\\\\bf{J}$ , Duesberg GS, Benstetter G (2022) Investigation of heater structures for thermal conductivity measurements of $\\\\mathrm{S i O}_{2}$ and $\\\\mathrm{A l_{2} O_{3}}$ thin films using the 3-Omega method. Nanomaterials 12:1928. https://doi.org/10.3390/nano12111928\\n\\n[16] Aller HT, McGaughey AJH, Malen JA (2023) Reduced thermal resistance of amorphous Al2O, thin films on f $- \\\\mathrm{G a_{2} O_{3}}$ and amorphous SiO, substrates via rapid thermal annealing. Appl Phys Lett 123:132202. https://doi.org/10. 1063/5.0165954\\n\\nfield. J Phys Chem C 121:23268-23275. https://doi.org/10.\\n1021/acs.jpcc.7b07095\\n[24] Cao $\\\\mathrm{S}$ , He H, Zhu W (2017) Defect induced phonon scat-\\ntering for tuning the lattice thermal conductivity of SiO,\\nthin films. AlP Adv 7:015038. https://doi.org/10.1063/1.\\n4975227\\n[25] Takeuchi H, Yokogawa R, Takahashi $\\\\mathbf{K}$ et al (2020) Evalu-\\nation of thermal conductivity characteristics in polycrystal-\\nline silicon--the effect of nanostructure in the grains. ECS\\nTrans 98:437-446. https://doi.org/10.1149/09805.0437ecst [26] Hahn SH, Rimsza J, Criscenti $\\\\mathrm{L}$ et al (2018) Development\\nof a ReaxFF reactive force field for NaSiOx/Water systems\\nand its application to sodium and proton self-diffusion. J\\nPhys Chem $\\\\mathrm{C}$ 122:19613-19624. https://doi.org/10.1021/\\nacs.jpcc.8b05852\\n[27] He $\\\\mathrm{Y},$ . Tang YZ, Ding M, Ma LX (2012) Thermal conduc-\\ntivity of amorphous and crystalline SiO, nano-films from\\nmolecular dynamics simulations. KEM 501:64-69. https://\\ndoi.org/10.4028/www.scientific.net/KEM.501.64\\n[28] Hoang VV (2007) Molecular dynamics simulation of\\namorphous SiO, nanoparticles. J Phys Chem B 111:12649-\\n12656. https://doi.org/10.1021/jp074237u\\n[29] Chaudhuri $\\\\mathrm{S}$ , Biswas SK, Choudhury A （1988) Opti-\\ncal and structural properties of amorphous and heat\\ntreated $\\\\mathrm{I n}_{0. 4} \\\\mathrm{S e}_{0. 6}$ film of different thicknesses. J Mater Sci\\n23:4470-4476. https://doi.org/10.1007/BF00551946\\n[30] Matsumura $\\\\mathrm{Y}$ , Wang $\\\\mathrm{S}$ , Shinohara $\\\\mathbf{K}$ , Hatta I (1995) Ther-\\nmal conductivity of ribbonlike carbon films. Jpn $\\\\bf{J}$ Appl\\nPhys 34:232-235. https://doi.org/10.1143/JJAP.34.232 [31] Paterson J, Mitra $\\\\mathrm{S}$ , Liu $\\\\mathrm{Y}$ et al (2024) Thermal conduc-\\ntivity reduction due to phonon geometrical scattering in\\nnano-engineered epitaxial germanium. Appl Phys Lett\\n124:181902. https://doi.org/10.1063/5.0204222\\n[32] Coquil T, Fang J, Pilo $\\\\mathrm{L}$ (2011) Molecular dynamics study\\nof the thermal conductivity of amorphous nanoporous sil-\\nica. Int J Heat Mass Transf 54:4540 4548. https://doi.org/\\n10.1016/j.ijheatmasstransfer.2011.06.024\\n[33] Molaei $\\\\mathrm{F},$ Moghadam MS, Nouri S (2021) Investigation of\\nthermal properties of crystalline alpha quartz by employ-\\ning different interatomic potentials: a molecular dynamic\\nstudy. Phys Earth Planet Inter 316:106724. https://doi.org/\\n10.1016/j.pepi.2021.106724\\n[34] Martin $\\\\mathrm{E},$ Ori G, Duong T-Q, Boero M, Massobrio $\\\\mathrm{C}$ (2022)\\nThermal conductivity of amorphous SiO, by first-princi-\\nples molecular dynamics. J Non-Cryst Solids 581:121434.\\nhttps://doi.org/10.1016/j .jnoncrysol.2022.121434\\n[35] Puchalski A, Hul $\\\\mathrm{A}$ , Nie J, Pietrzak TK, Keblinski $\\\\mathtt{P}$ (2024)\\nStructure and thermal conductivity of high-pressure-treated\\nsilica glass, A molecular dynamics study. $\\\\bf{J}$ Appl Phys\\n125.005105 httno.lldni nwo/10 1063/5 0192508\\n\\n[24] Cao S, He H, Zhu W (2017) Defect induced phonon scat tering for tuning the lattice thermal conductivity of SiO, thin films. AIP Adv $7$ :015038. https://doi.org/10.1063/1. 4975227\\n\\n1JJ.U7J1UJ. Il./UU1.0lg/ 1U.1VUJ1 J.V1 0JJvo [36] Yang $\\\\mathrm{Y}$ .Tokunaga H, Hayashi $\\\\mathbf{K}$ , Ono M, Mauro JC (2024) Investigation of the thermal conductivity of SiO, glass using molecular dynamics simulations. J Am Ceram Soc 107:7836-7849. https:/doi.org/10.1111/jace.20039\\n\\nPublisher\\'s Note Springer Nature remains neutral with regard to jurisdictional claims in published maps and institutional affiliations\\n\\nSpringer Nature orits licensor (e.g. a society or other partner) holds exclusive rights to this article under a publishing agreement with the author(s) or other rightsholder(s); author self-archiving of the accepted manuscript version of this article is solely governed by the terms of such publishing agreement and applicable law.\\n'"
            ],
            "application/vnd.google.colaboratory.intrinsic+json": {
              "type": "string"
            }
          },
          "metadata": {},
          "execution_count": 5
        }
      ]
    }
  ]
}